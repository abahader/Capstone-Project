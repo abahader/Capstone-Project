{
 "cells": [
  {
   "cell_type": "markdown",
   "id": "cba21799",
   "metadata": {},
   "source": [
    "# SDA - Data Science Bootcamp 2022\n",
    "\n",
    "\n",
    "# Limitless Capstone Project\n",
    "\n",
    "Mashael Alshaikhi -\n",
    "Wajd Alosaimi -\n",
    "Abdulrahman Bahader -\n",
    "Lamees Alotaibi -\n",
    "Raoom Alsaab "
   ]
  },
  {
   "cell_type": "markdown",
   "id": "b6043508",
   "metadata": {},
   "source": [
    "# ---------------------------------------------------------------------------------------------------------\n"
   ]
  },
  {
   "cell_type": "code",
   "execution_count": 1,
   "id": "944ed4d5",
   "metadata": {},
   "outputs": [],
   "source": [
    "# Importing the used library and packages\n",
    "\n",
    "import pandas as pd\n",
    "import numpy as np\n",
    "import matplotlib.pyplot as plt\n",
    "import seaborn as sns\n",
    "from sklearn.pipeline import Pipeline\n",
    "from sklearn.pipeline import make_pipeline\n",
    "from sklearn.compose import ColumnTransformer\n",
    "from sklearn.impute import SimpleImputer\n",
    "from sklearn.preprocessing import StandardScaler\n",
    "from sklearn.preprocessing import OneHotEncoder\n",
    "from sklearn.compose import make_column_transformer\n",
    "from sklearn.model_selection import GridSearchCV\n",
    "from sklearn.linear_model import LogisticRegression\n",
    "from sklearn.svm import SVR\n",
    "from sklearn.metrics import classification_report\n",
    "from sklearn.model_selection import cross_val_score\n",
    "from sklearn.model_selection import train_test_split\n",
    "from sklearn.metrics import mean_squared_error, r2_score\n",
    "from sklearn.preprocessing import MinMaxScaler\n",
    "from sklearn.metrics import accuracy_score\n",
    "from sklearn.datasets import load_boston\n",
    "from sklearn.linear_model import LinearRegression\n",
    "from sklearn.preprocessing import PolynomialFeatures\n",
    "from sklearn.model_selection import train_test_split\n",
    "from xgboost import XGBRegressor\n",
    "from sklearn.metrics import mean_absolute_error\n",
    "from sklearn.metrics import r2_score\n",
    "from sklearn.metrics import plot_confusion_matrix\n",
    "from sklearn.metrics import classification_report\n",
    "from sklearn import tree\n",
    "from sklearn import metrics\n",
    "from sklearn.tree import DecisionTreeClassifier\n",
    "from sklearn.model_selection import RandomizedSearchCV\n",
    "from sklearn.ensemble import RandomForestClassifier\n",
    "from sklearn.tree import DecisionTreeRegressor\n",
    "from sklearn.ensemble import RandomForestRegressor\n",
    "import xgboost as xgb\n",
    "from xgboost import XGBClassifier\n",
    "plt.style.use(\"ggplot\")\n"
   ]
  },
  {
   "cell_type": "code",
   "execution_count": 3,
   "id": "7927864c",
   "metadata": {},
   "outputs": [
    {
     "data": {
      "text/html": [
       "<div>\n",
       "<style scoped>\n",
       "    .dataframe tbody tr th:only-of-type {\n",
       "        vertical-align: middle;\n",
       "    }\n",
       "\n",
       "    .dataframe tbody tr th {\n",
       "        vertical-align: top;\n",
       "    }\n",
       "\n",
       "    .dataframe thead th {\n",
       "        text-align: right;\n",
       "    }\n",
       "</style>\n",
       "<table border=\"1\" class=\"dataframe\">\n",
       "  <thead>\n",
       "    <tr style=\"text-align: right;\">\n",
       "      <th></th>\n",
       "      <th>Link</th>\n",
       "      <th>Make</th>\n",
       "      <th>Type</th>\n",
       "      <th>Year</th>\n",
       "      <th>Origin</th>\n",
       "      <th>Color</th>\n",
       "      <th>Options</th>\n",
       "      <th>Engine_Size</th>\n",
       "      <th>Fuel_Type</th>\n",
       "      <th>Gear_Type</th>\n",
       "      <th>Condition</th>\n",
       "      <th>Mileage</th>\n",
       "      <th>Region</th>\n",
       "      <th>Price</th>\n",
       "      <th>Negotiable</th>\n",
       "    </tr>\n",
       "  </thead>\n",
       "  <tbody>\n",
       "    <tr>\n",
       "      <th>0</th>\n",
       "      <td>https://syarah.com/%D9%83%D8%B1%D8%A7%D9%8A%D8...</td>\n",
       "      <td>Chrysler</td>\n",
       "      <td>C300</td>\n",
       "      <td>2018</td>\n",
       "      <td>Saudi</td>\n",
       "      <td>Black</td>\n",
       "      <td>Full</td>\n",
       "      <td>5.7</td>\n",
       "      <td>Gas</td>\n",
       "      <td>Automatic</td>\n",
       "      <td>Used</td>\n",
       "      <td>103000</td>\n",
       "      <td>Riyadh</td>\n",
       "      <td>114000</td>\n",
       "      <td>False</td>\n",
       "    </tr>\n",
       "    <tr>\n",
       "      <th>1</th>\n",
       "      <td>https://syarah.com/%D9%86%D9%8A%D8%B3%D8%A7%D9...</td>\n",
       "      <td>Nissan</td>\n",
       "      <td>Patrol</td>\n",
       "      <td>2016</td>\n",
       "      <td>Saudi</td>\n",
       "      <td>White</td>\n",
       "      <td>Full</td>\n",
       "      <td>4.8</td>\n",
       "      <td>Gas</td>\n",
       "      <td>Automatic</td>\n",
       "      <td>Used</td>\n",
       "      <td>5448</td>\n",
       "      <td>Riyadh</td>\n",
       "      <td>Negotiable</td>\n",
       "      <td>True</td>\n",
       "    </tr>\n",
       "    <tr>\n",
       "      <th>2</th>\n",
       "      <td>https://syarah.com/online/%D9%86%D9%8A%D8%B3%D...</td>\n",
       "      <td>Nissan</td>\n",
       "      <td>Sunny</td>\n",
       "      <td>2019</td>\n",
       "      <td>Saudi</td>\n",
       "      <td>Silver</td>\n",
       "      <td>Standard</td>\n",
       "      <td>1.5</td>\n",
       "      <td>Gas</td>\n",
       "      <td>Automatic</td>\n",
       "      <td>Used</td>\n",
       "      <td>72418</td>\n",
       "      <td>Riyadh</td>\n",
       "      <td>27500</td>\n",
       "      <td>False</td>\n",
       "    </tr>\n",
       "    <tr>\n",
       "      <th>3</th>\n",
       "      <td>https://syarah.com/online/%D9%87%D9%88%D9%86%D...</td>\n",
       "      <td>Hyundai</td>\n",
       "      <td>Elantra</td>\n",
       "      <td>2019</td>\n",
       "      <td>Saudi</td>\n",
       "      <td>Grey</td>\n",
       "      <td>Standard</td>\n",
       "      <td>1.6</td>\n",
       "      <td>Gas</td>\n",
       "      <td>Automatic</td>\n",
       "      <td>Used</td>\n",
       "      <td>114154</td>\n",
       "      <td>Riyadh</td>\n",
       "      <td>43000</td>\n",
       "      <td>False</td>\n",
       "    </tr>\n",
       "    <tr>\n",
       "      <th>4</th>\n",
       "      <td>https://syarah.com/online/%D9%87%D9%88%D9%86%D...</td>\n",
       "      <td>Hyundai</td>\n",
       "      <td>Elantra</td>\n",
       "      <td>2019</td>\n",
       "      <td>Saudi</td>\n",
       "      <td>Silver</td>\n",
       "      <td>Semi Full</td>\n",
       "      <td>2.0</td>\n",
       "      <td>Gas</td>\n",
       "      <td>Automatic</td>\n",
       "      <td>Used</td>\n",
       "      <td>41912</td>\n",
       "      <td>Riyadh</td>\n",
       "      <td>59500</td>\n",
       "      <td>False</td>\n",
       "    </tr>\n",
       "  </tbody>\n",
       "</table>\n",
       "</div>"
      ],
      "text/plain": [
       "                                                Link      Make     Type  Year  \\\n",
       "0  https://syarah.com/%D9%83%D8%B1%D8%A7%D9%8A%D8...  Chrysler     C300  2018   \n",
       "1  https://syarah.com/%D9%86%D9%8A%D8%B3%D8%A7%D9...    Nissan   Patrol  2016   \n",
       "2  https://syarah.com/online/%D9%86%D9%8A%D8%B3%D...    Nissan    Sunny  2019   \n",
       "3  https://syarah.com/online/%D9%87%D9%88%D9%86%D...   Hyundai  Elantra  2019   \n",
       "4  https://syarah.com/online/%D9%87%D9%88%D9%86%D...   Hyundai  Elantra  2019   \n",
       "\n",
       "  Origin   Color    Options  Engine_Size Fuel_Type  Gear_Type Condition  \\\n",
       "0  Saudi   Black       Full          5.7       Gas  Automatic      Used   \n",
       "1  Saudi   White       Full          4.8       Gas  Automatic      Used   \n",
       "2  Saudi  Silver   Standard          1.5       Gas  Automatic      Used   \n",
       "3  Saudi    Grey   Standard          1.6       Gas  Automatic      Used   \n",
       "4  Saudi  Silver  Semi Full          2.0       Gas  Automatic      Used   \n",
       "\n",
       "   Mileage  Region       Price  Negotiable  \n",
       "0   103000  Riyadh      114000       False  \n",
       "1     5448  Riyadh  Negotiable        True  \n",
       "2    72418  Riyadh       27500       False  \n",
       "3   114154  Riyadh       43000       False  \n",
       "4    41912  Riyadh       59500       False  "
      ]
     },
     "execution_count": 3,
     "metadata": {},
     "output_type": "execute_result"
    }
   ],
   "source": [
    "# Load dataset ( The Used Cars in Saudi Arabia)\n",
    "Used_Cars = pd.read_csv('/Users/lameesotb/Desktop/Capstone Project/UsedCarsSA_Unclean_EN.csv')\n",
    "Used_Cars.head()"
   ]
  },
  {
   "cell_type": "markdown",
   "id": "84921b4b",
   "metadata": {},
   "source": [
    "# Variables Describtion\n",
    "________________________________________________________________________________________________________\n",
    "\n",
    "- Make: Name of the car company\n",
    "- Model: Name of a car product\n",
    "- Year : Year of Manufacturing\n",
    "- Origin: Country of importer (Gulf / Saudi / Other)\n",
    "- Color: Color of the used car\n",
    "- Options: Full Options / Semi-Full / Standard\n",
    "- Engine_Size: The engine size of used car\n",
    "- Fuel_Model: Fuel Model size of used car (Diesel / Gas / Hybrid)\n",
    "- Gear_Type: Automatic / Manual\n",
    "- Mileage: The average distance that a vehicle can travel on (in km)\n",
    "- Region: The region in which the used car was offered for sale\n",
    "- Price: Price of the used car (in SAR)\n",
    "- Negotiable: If True, the price is 0. This means the price is negotiable (not set)\n"
   ]
  },
  {
   "cell_type": "markdown",
   "id": "5fb5689f",
   "metadata": {},
   "source": [
    "# The Project Objectives\n",
    "________________________________________________________________________________________________________\n",
    "\n",
    "- Building a regression model to predict the price of used cars in Saudi Arabia based on the given data.\n",
    "- Building a classification model to predict the options of used cars in Saudi Arabia based on the given data.\n",
    "- Understanding which variables are significant in predicting the price and options of the used cars.\n",
    "- Comparing different ML models, and find the best one among them."
   ]
  },
  {
   "cell_type": "markdown",
   "id": "0b389d4e",
   "metadata": {},
   "source": [
    "# ---------------------------------------------------------------------------------------------------------\n"
   ]
  },
  {
   "cell_type": "markdown",
   "id": "2481674e",
   "metadata": {},
   "source": [
    "# 1. Exploratory Data Analysis (EDA)\n"
   ]
  },
  {
   "cell_type": "code",
   "execution_count": 4,
   "id": "8db8865a",
   "metadata": {},
   "outputs": [
    {
     "name": "stdout",
     "output_type": "stream",
     "text": [
      "Shape: (8248, 15)\n"
     ]
    }
   ],
   "source": [
    "# To check the number of rows and cols in the dataset\n",
    "print('Shape:', Used_Cars.shape)"
   ]
  },
  {
   "cell_type": "code",
   "execution_count": 5,
   "id": "9b86a395",
   "metadata": {},
   "outputs": [
    {
     "name": "stdout",
     "output_type": "stream",
     "text": [
      "<class 'pandas.core.frame.DataFrame'>\n",
      "RangeIndex: 8248 entries, 0 to 8247\n",
      "Data columns (total 15 columns):\n",
      " #   Column       Non-Null Count  Dtype  \n",
      "---  ------       --------------  -----  \n",
      " 0   Link         8248 non-null   object \n",
      " 1   Make         8248 non-null   object \n",
      " 2   Type         8248 non-null   object \n",
      " 3   Year         8248 non-null   int64  \n",
      " 4   Origin       8153 non-null   object \n",
      " 5   Color        8248 non-null   object \n",
      " 6   Options      8139 non-null   object \n",
      " 7   Engine_Size  5982 non-null   float64\n",
      " 8   Fuel_Type    8248 non-null   object \n",
      " 9   Gear_Type    8174 non-null   object \n",
      " 10  Condition    8248 non-null   object \n",
      " 11  Mileage      8248 non-null   int64  \n",
      " 12  Region       8248 non-null   object \n",
      " 13  Price        8248 non-null   object \n",
      " 14  Negotiable   8248 non-null   bool   \n",
      "dtypes: bool(1), float64(1), int64(2), object(11)\n",
      "memory usage: 910.3+ KB\n"
     ]
    }
   ],
   "source": [
    "# To check the dataset information for each variable\n",
    "Used_Cars.info()"
   ]
  },
  {
   "cell_type": "code",
   "execution_count": 6,
   "id": "96205f55",
   "metadata": {},
   "outputs": [
    {
     "name": "stdout",
     "output_type": "stream",
     "text": [
      "Checking the duplicated rows: \n",
      "Number of duplicate rows:  20\n",
      "_________________________________________________________________\n",
      "After dropping the duplicated rows: \n",
      "Number of duplicate rows:  0\n"
     ]
    }
   ],
   "source": [
    "# Checking the duplicated rows\n",
    "print(\"Checking the duplicated rows: \")\n",
    "print(\"Number of duplicate rows: \", sum(Used_Cars.duplicated()))\n",
    "\n",
    "print(\"_________________________________________________________________\")\n",
    "\n",
    "# Dropping the duplicated rows\n",
    "Used_Cars.drop_duplicates(inplace=True)\n",
    "print(\"After dropping the duplicated rows: \")\n",
    "print(\"Number of duplicate rows: \", sum(Used_Cars.duplicated()))"
   ]
  },
  {
   "cell_type": "code",
   "execution_count": 7,
   "id": "4bd65879",
   "metadata": {},
   "outputs": [],
   "source": [
    "# Renaming unclear columns:\n",
    "# \"Type\" column is confusing to read, So, we will change it to \"Car_Model\" to improves the readability of the dataset.\n",
    "Used_Cars = Used_Cars.rename(columns={\"Type\": \"Car_Model\"})"
   ]
  },
  {
   "cell_type": "code",
   "execution_count": 8,
   "id": "1ba85f53",
   "metadata": {},
   "outputs": [
    {
     "data": {
      "text/plain": [
       "Condition\n",
       "Used    8228\n",
       "dtype: int64"
      ]
     },
     "execution_count": 8,
     "metadata": {},
     "output_type": "execute_result"
    }
   ],
   "source": [
    "# Checking and dropping the irrelevant columns (Condition)\n",
    "Used_Cars.value_counts('Condition')"
   ]
  },
  {
   "cell_type": "code",
   "execution_count": 9,
   "id": "2efff1c5",
   "metadata": {},
   "outputs": [],
   "source": [
    "# Clean the dataset through deleting the unneeded columns (Link,Condition,Negotiable).\n",
    "Used_Cars = Used_Cars.drop(['Link','Condition','Negotiable'], axis=1)"
   ]
  },
  {
   "cell_type": "code",
   "execution_count": 10,
   "id": "07a58921",
   "metadata": {},
   "outputs": [
    {
     "data": {
      "text/html": [
       "<div>\n",
       "<style scoped>\n",
       "    .dataframe tbody tr th:only-of-type {\n",
       "        vertical-align: middle;\n",
       "    }\n",
       "\n",
       "    .dataframe tbody tr th {\n",
       "        vertical-align: top;\n",
       "    }\n",
       "\n",
       "    .dataframe thead th {\n",
       "        text-align: right;\n",
       "    }\n",
       "</style>\n",
       "<table border=\"1\" class=\"dataframe\">\n",
       "  <thead>\n",
       "    <tr style=\"text-align: right;\">\n",
       "      <th></th>\n",
       "      <th>Year</th>\n",
       "      <th>Engine_Size</th>\n",
       "      <th>Mileage</th>\n",
       "    </tr>\n",
       "  </thead>\n",
       "  <tbody>\n",
       "    <tr>\n",
       "      <th>count</th>\n",
       "      <td>8228.000000</td>\n",
       "      <td>5965.000000</td>\n",
       "      <td>8.228000e+03</td>\n",
       "    </tr>\n",
       "    <tr>\n",
       "      <th>mean</th>\n",
       "      <td>2014.012275</td>\n",
       "      <td>3.176932</td>\n",
       "      <td>1.496074e+05</td>\n",
       "    </tr>\n",
       "    <tr>\n",
       "      <th>std</th>\n",
       "      <td>5.933833</td>\n",
       "      <td>1.568393</td>\n",
       "      <td>3.459146e+05</td>\n",
       "    </tr>\n",
       "    <tr>\n",
       "      <th>min</th>\n",
       "      <td>1936.000000</td>\n",
       "      <td>1.000000</td>\n",
       "      <td>1.000000e+02</td>\n",
       "    </tr>\n",
       "    <tr>\n",
       "      <th>25%</th>\n",
       "      <td>2012.000000</td>\n",
       "      <td>2.000000</td>\n",
       "      <td>3.700000e+04</td>\n",
       "    </tr>\n",
       "    <tr>\n",
       "      <th>50%</th>\n",
       "      <td>2016.000000</td>\n",
       "      <td>2.700000</td>\n",
       "      <td>1.020000e+05</td>\n",
       "    </tr>\n",
       "    <tr>\n",
       "      <th>75%</th>\n",
       "      <td>2018.000000</td>\n",
       "      <td>4.000000</td>\n",
       "      <td>1.960000e+05</td>\n",
       "    </tr>\n",
       "    <tr>\n",
       "      <th>max</th>\n",
       "      <td>2022.000000</td>\n",
       "      <td>9.000000</td>\n",
       "      <td>2.000000e+07</td>\n",
       "    </tr>\n",
       "  </tbody>\n",
       "</table>\n",
       "</div>"
      ],
      "text/plain": [
       "              Year  Engine_Size       Mileage\n",
       "count  8228.000000  5965.000000  8.228000e+03\n",
       "mean   2014.012275     3.176932  1.496074e+05\n",
       "std       5.933833     1.568393  3.459146e+05\n",
       "min    1936.000000     1.000000  1.000000e+02\n",
       "25%    2012.000000     2.000000  3.700000e+04\n",
       "50%    2016.000000     2.700000  1.020000e+05\n",
       "75%    2018.000000     4.000000  1.960000e+05\n",
       "max    2022.000000     9.000000  2.000000e+07"
      ]
     },
     "execution_count": 10,
     "metadata": {},
     "output_type": "execute_result"
    }
   ],
   "source": [
    "# Summary statistics for numerical attrubires \n",
    "Used_Cars.describe()"
   ]
  },
  {
   "cell_type": "markdown",
   "id": "2523610c",
   "metadata": {},
   "source": [
    "### Notice:\n",
    "- Mileage has maximum value of 20,000,000. This is not possible! \n",
    "- Price column, where is it, it should be as numeric variable."
   ]
  },
  {
   "cell_type": "code",
   "execution_count": 11,
   "id": "15a61a26",
   "metadata": {},
   "outputs": [],
   "source": [
    "# To be realistic; most of the used cars with more than 900000 mileage will not be sold.\n",
    "# Therefore, the dataset is limited to be in this limit\n",
    "Used_Cars = Used_Cars[Used_Cars['Mileage'] < 900000] "
   ]
  },
  {
   "cell_type": "code",
   "execution_count": 12,
   "id": "06aea06e",
   "metadata": {},
   "outputs": [
    {
     "data": {
      "text/html": [
       "<div>\n",
       "<style scoped>\n",
       "    .dataframe tbody tr th:only-of-type {\n",
       "        vertical-align: middle;\n",
       "    }\n",
       "\n",
       "    .dataframe tbody tr th {\n",
       "        vertical-align: top;\n",
       "    }\n",
       "\n",
       "    .dataframe thead th {\n",
       "        text-align: right;\n",
       "    }\n",
       "</style>\n",
       "<table border=\"1\" class=\"dataframe\">\n",
       "  <thead>\n",
       "    <tr style=\"text-align: right;\">\n",
       "      <th></th>\n",
       "      <th>Make</th>\n",
       "      <th>Car_Model</th>\n",
       "      <th>Origin</th>\n",
       "      <th>Color</th>\n",
       "      <th>Options</th>\n",
       "      <th>Fuel_Type</th>\n",
       "      <th>Gear_Type</th>\n",
       "      <th>Region</th>\n",
       "      <th>Price</th>\n",
       "    </tr>\n",
       "  </thead>\n",
       "  <tbody>\n",
       "    <tr>\n",
       "      <th>count</th>\n",
       "      <td>8178</td>\n",
       "      <td>8178</td>\n",
       "      <td>8083</td>\n",
       "      <td>8178</td>\n",
       "      <td>8069</td>\n",
       "      <td>8178</td>\n",
       "      <td>8104</td>\n",
       "      <td>8178</td>\n",
       "      <td>8178</td>\n",
       "    </tr>\n",
       "    <tr>\n",
       "      <th>unique</th>\n",
       "      <td>65</td>\n",
       "      <td>434</td>\n",
       "      <td>3</td>\n",
       "      <td>15</td>\n",
       "      <td>3</td>\n",
       "      <td>3</td>\n",
       "      <td>2</td>\n",
       "      <td>27</td>\n",
       "      <td>548</td>\n",
       "    </tr>\n",
       "    <tr>\n",
       "      <th>top</th>\n",
       "      <td>Toyota</td>\n",
       "      <td>Land Cruiser</td>\n",
       "      <td>Saudi</td>\n",
       "      <td>White</td>\n",
       "      <td>Full</td>\n",
       "      <td>Gas</td>\n",
       "      <td>Automatic</td>\n",
       "      <td>Riyadh</td>\n",
       "      <td>Negotiable</td>\n",
       "    </tr>\n",
       "    <tr>\n",
       "      <th>freq</th>\n",
       "      <td>2052</td>\n",
       "      <td>370</td>\n",
       "      <td>6034</td>\n",
       "      <td>3544</td>\n",
       "      <td>3215</td>\n",
       "      <td>7982</td>\n",
       "      <td>7013</td>\n",
       "      <td>3281</td>\n",
       "      <td>2568</td>\n",
       "    </tr>\n",
       "  </tbody>\n",
       "</table>\n",
       "</div>"
      ],
      "text/plain": [
       "          Make     Car_Model Origin  Color Options Fuel_Type  Gear_Type  \\\n",
       "count     8178          8178   8083   8178    8069      8178       8104   \n",
       "unique      65           434      3     15       3         3          2   \n",
       "top     Toyota  Land Cruiser  Saudi  White    Full       Gas  Automatic   \n",
       "freq      2052           370   6034   3544    3215      7982       7013   \n",
       "\n",
       "        Region       Price  \n",
       "count     8178        8178  \n",
       "unique      27         548  \n",
       "top     Riyadh  Negotiable  \n",
       "freq      3281        2568  "
      ]
     },
     "execution_count": 12,
     "metadata": {},
     "output_type": "execute_result"
    }
   ],
   "source": [
    "# Summary statistics for categorical variables\n",
    "Used_Cars.describe(exclude=\"number\")"
   ]
  },
  {
   "cell_type": "markdown",
   "id": "3e70d54e",
   "metadata": {},
   "source": [
    "### Notice:\n",
    "- Toyota Land Cruiser is the most selling car.\n",
    "- White is the most preferable color.\n",
    "- Full option is the most selected. \n",
    "- Riyadh is the most popular city.\n",
    "- Price needs to handling as the top is 'Negotiable' which means the price is not set."
   ]
  },
  {
   "cell_type": "markdown",
   "id": "350de720",
   "metadata": {},
   "source": [
    "## 1.1 Handling Missing Values "
   ]
  },
  {
   "cell_type": "code",
   "execution_count": 13,
   "id": "199ba209",
   "metadata": {},
   "outputs": [
    {
     "data": {
      "text/plain": [
       "Make              0\n",
       "Car_Model         0\n",
       "Year              0\n",
       "Origin           95\n",
       "Color             0\n",
       "Options         109\n",
       "Engine_Size    2241\n",
       "Fuel_Type         0\n",
       "Gear_Type        74\n",
       "Mileage           0\n",
       "Region            0\n",
       "Price             0\n",
       "dtype: int64"
      ]
     },
     "execution_count": 13,
     "metadata": {},
     "output_type": "execute_result"
    }
   ],
   "source": [
    "# Finding the missing values \n",
    "Used_Cars.isna().sum()"
   ]
  },
  {
   "cell_type": "code",
   "execution_count": 14,
   "id": "c7150c95",
   "metadata": {},
   "outputs": [],
   "source": [
    "# Fill in the Engine_Size with the mean \n",
    "Mean_value= Used_Cars['Engine_Size'].mean()\n",
    "Used_Cars['Engine_Size'].fillna(value=Mean_value, inplace=True)"
   ]
  },
  {
   "cell_type": "code",
   "execution_count": 15,
   "id": "57d2ca9a",
   "metadata": {},
   "outputs": [
    {
     "data": {
      "text/plain": [
       "Make           0\n",
       "Car_Model      0\n",
       "Year           0\n",
       "Origin         0\n",
       "Color          0\n",
       "Options        0\n",
       "Engine_Size    0\n",
       "Fuel_Type      0\n",
       "Gear_Type      0\n",
       "Mileage        0\n",
       "Region         0\n",
       "Price          0\n",
       "dtype: int64"
      ]
     },
     "execution_count": 15,
     "metadata": {},
     "output_type": "execute_result"
    }
   ],
   "source": [
    "# Drop the nall values\n",
    "Used_Cars.dropna(inplace=True)\n",
    "Used_Cars.isna().sum()"
   ]
  },
  {
   "cell_type": "markdown",
   "id": "cc8a71f5",
   "metadata": {},
   "source": [
    "## 1.2 Handling The Price Column "
   ]
  },
  {
   "cell_type": "code",
   "execution_count": 16,
   "id": "f15f2d9f",
   "metadata": {},
   "outputs": [],
   "source": [
    "# Converting 'Price' from object to numeric\n",
    "Used_Cars['Price'] = Used_Cars['Price'].apply(pd.to_numeric, errors='coerce')\n",
    "# Also, we need to converte 'Engine_Size' from float to int\n",
    "Used_Cars['Engine_Size'] = Used_Cars['Engine_Size'].astype(int)"
   ]
  },
  {
   "cell_type": "code",
   "execution_count": 17,
   "id": "100bcea9",
   "metadata": {},
   "outputs": [
    {
     "data": {
      "text/plain": [
       "Make            object\n",
       "Car_Model       object\n",
       "Year             int64\n",
       "Origin          object\n",
       "Color           object\n",
       "Options         object\n",
       "Engine_Size      int64\n",
       "Fuel_Type       object\n",
       "Gear_Type       object\n",
       "Mileage          int64\n",
       "Region          object\n",
       "Price          float64\n",
       "dtype: object"
      ]
     },
     "metadata": {},
     "output_type": "display_data"
    }
   ],
   "source": [
    "# Displaying the dataset types\n",
    "display(Used_Cars.dtypes)"
   ]
  },
  {
   "cell_type": "code",
   "execution_count": 17,
   "id": "9f6786f8",
   "metadata": {},
   "outputs": [
    {
     "data": {
      "text/plain": [
       "Make              0\n",
       "Car_Model         0\n",
       "Year              0\n",
       "Origin            0\n",
       "Color             0\n",
       "Options           0\n",
       "Engine_Size       0\n",
       "Fuel_Type         0\n",
       "Gear_Type         0\n",
       "Mileage           0\n",
       "Region            0\n",
       "Price          2488\n",
       "dtype: int64"
      ]
     },
     "execution_count": 17,
     "metadata": {},
     "output_type": "execute_result"
    }
   ],
   "source": [
    "# Discovering that there are nall values after converting 'Price' to numeric\n",
    "Used_Cars.isna().sum()"
   ]
  },
  {
   "cell_type": "code",
   "execution_count": 18,
   "id": "26913d98",
   "metadata": {},
   "outputs": [
    {
     "data": {
      "text/plain": [
       "Make           0\n",
       "Car_Model      0\n",
       "Year           0\n",
       "Origin         0\n",
       "Color          0\n",
       "Options        0\n",
       "Engine_Size    0\n",
       "Fuel_Type      0\n",
       "Gear_Type      0\n",
       "Mileage        0\n",
       "Region         0\n",
       "Price          0\n",
       "dtype: int64"
      ]
     },
     "execution_count": 18,
     "metadata": {},
     "output_type": "execute_result"
    }
   ],
   "source": [
    "# Before dropping the null values, we decide to determine a range of the price first\n",
    "Used_Cars = Used_Cars[Used_Cars['Price'] > 4000]\n",
    "# Then testing whether there will be null values or not, and the result:(the dataset is clean now)\n",
    "Used_Cars.isna().sum()"
   ]
  },
  {
   "cell_type": "code",
   "execution_count": 19,
   "id": "3c8ef6de",
   "metadata": {},
   "outputs": [
    {
     "data": {
      "text/plain": [
       "(5469, 12)"
      ]
     },
     "execution_count": 19,
     "metadata": {},
     "output_type": "execute_result"
    }
   ],
   "source": [
    "Used_Cars.shape"
   ]
  },
  {
   "cell_type": "markdown",
   "id": "570d6cd2",
   "metadata": {},
   "source": [
    "# ---------------------------------------------------------------------------------------------------------\n"
   ]
  },
  {
   "cell_type": "markdown",
   "id": "e162b8ba",
   "metadata": {},
   "source": [
    "# 2. Dataset Features Visualization"
   ]
  },
  {
   "cell_type": "code",
   "execution_count": 34,
   "id": "0974c25c",
   "metadata": {},
   "outputs": [
    {
     "data": {
      "image/png": "[encoded data removed]",
      "text/plain": [
       "<Figure size 1152x432 with 2 Axes>"
      ]
     },
     "metadata": {},
     "output_type": "display_data"
    }
   ],
   "source": [
    "plt.figure(figsize=(16, 6))\n",
    "heatmap = sns.heatmap(Used_Cars.corr(), vmin=-1, vmax=1, annot=True)\n",
    "heatmap.set_title('Correlation Heatmap', fontdict={'fontsize':12}, pad=12);"
   ]
  },
  {
   "cell_type": "markdown",
   "id": "b1fa6488",
   "metadata": {},
   "source": [
    "## 2.1 Insight 1\n",
    "\n",
    "The heatmap correlation polt we did it to understand the relationship between multiple variables and attributes\n",
    "in the dataset."
   ]
  },
  {
   "cell_type": "code",
   "execution_count": 22,
   "id": "e202c4eb",
   "metadata": {},
   "outputs": [
    {
     "data": {
      "text/plain": [
       "<seaborn.axisgrid.PairGrid at 0x188f7e68490>"
      ]
     },
     "execution_count": 22,
     "metadata": {},
     "output_type": "execute_result"
    },
    {
     "data": {
      "image/png": "[encoded data removed]",
      "text/plain": [
       "<Figure size 601.5x540 with 12 Axes>"
      ]
     },
     "metadata": {},
     "output_type": "display_data"
    }
   ],
   "source": [
    "sns.pairplot(Used_Cars, hue='Year')"
   ]
  },
  {
   "cell_type": "markdown",
   "id": "e64eda5e",
   "metadata": {},
   "source": [
    "## 2.2 Insight 2\n",
    "\n",
    "This pairplot shows us the relationships between many variables wiche are : price , mileage , engine_size and year.\n",
    "\n",
    "- The price in year 2020 is higher than the others years.\n",
    "\n",
    "- The Engine size which is 5.0 containes the highest price.\n",
    "\n",
    "- The relationship between the Mileage and the price is an inverse relationship, the higher the mileage, the lower the price."
   ]
  },
  {
   "cell_type": "code",
   "execution_count": 23,
   "id": "34a947e6",
   "metadata": {},
   "outputs": [
    {
     "data": {
      "text/plain": [
       "Text(0, 0.5, 'Count of cars')"
      ]
     },
     "execution_count": 23,
     "metadata": {},
     "output_type": "execute_result"
    },
    {
     "data": {
      "image/png": "[encoded data removed]",
      "text/plain": [
       "<Figure size 1440x576 with 1 Axes>"
      ]
     },
     "metadata": {},
     "output_type": "display_data"
    }
   ],
   "source": [
    "plt.figure(figsize = (20, 8))\n",
    "plot = sns.countplot(x = 'Engine_Size', data = Used_Cars)\n",
    "plt.xticks(rotation = 90)\n",
    "for p in plot.patches:\n",
    "    plot.annotate(p.get_height(), \n",
    "                        (p.get_x() + p.get_width() / 2.0, \n",
    "                         p.get_height()), \n",
    "                        ha = 'center', \n",
    "                        va = 'center', \n",
    "                        xytext = (0, 5),\n",
    "                        textcoords = 'offset points')\n",
    "\n",
    "plt.title(\"Count of cars based on Engine_Size\")\n",
    "plt.xlabel(\"Engine_Size\")\n",
    "plt.ylabel(\"Count of cars\")"
   ]
  },
  {
   "cell_type": "markdown",
   "id": "b45bab27",
   "metadata": {},
   "source": [
    "## 2.3 Insight 3\n",
    "\n",
    "This bar chart show us the relationship between the engine size and how many cars for each engine size.\n",
    "\n",
    "- We see that the engine size whic is 2 has the highset amount of cars which are 1191 cars while the engine size whice are 7 & 9 that containes the less amount of cars whice are saven cars."
   ]
  },
  {
   "cell_type": "code",
   "execution_count": 35,
   "id": "3f41f028",
   "metadata": {},
   "outputs": [
    {
     "data": {
      "text/plain": [
       "Text(0, 0.5, 'Count of Cars')"
      ]
     },
     "execution_count": 35,
     "metadata": {},
     "output_type": "execute_result"
    },
    {
     "data": {
      "image/png": "[encoded data removed]",
      "text/plain": [
       "<Figure size 1080x576 with 1 Axes>"
      ]
     },
     "metadata": {},
     "output_type": "display_data"
    }
   ],
   "source": [
    "plt.rcParams['figure.figsize'] = [15,8]\n",
    "ax = Used_Cars['Make'].value_counts().plot(kind='bar', colormap = 'PiYG_r')\n",
    "ax.title.set_text('Numbers of cars sold per company')\n",
    "plt.xlabel(\"Car Company\",fontweight = 'bold')\n",
    "plt.ylabel(\"Count of Cars\",fontweight = 'bold')"
   ]
  },
  {
   "cell_type": "markdown",
   "id": "505a6153",
   "metadata": {},
   "source": [
    "## 2.4 Insight 4\n",
    "\n",
    "This bar chart shows all the company names and how many cars sold for each company.\n",
    "\n",
    "- Toyota company has the highset number of cars that are sold in Saudi Arabia and then Hyundai."
   ]
  },
  {
   "cell_type": "code",
   "execution_count": 25,
   "id": "2634355a",
   "metadata": {},
   "outputs": [
    {
     "data": {
      "text/plain": [
       "Text(0, 0.5, 'Count of Cars')"
      ]
     },
     "execution_count": 25,
     "metadata": {},
     "output_type": "execute_result"
    },
    {
     "data": {
      "image/png": "[encoded data removed]",
      "text/plain": [
       "<Figure size 1080x576 with 1 Axes>"
      ]
     },
     "metadata": {},
     "output_type": "display_data"
    }
   ],
   "source": [
    "plt.rcParams['figure.figsize'] = [15,8]\n",
    "ax = Used_Cars['Region'].value_counts().plot(kind='bar', colormap = 'PiYG_r')\n",
    "ax.title.set_text('Numbers Of Cars Of Each Region')\n",
    "plt.xlabel(\"Region\",fontweight = 'bold')\n",
    "plt.ylabel(\"Count of Cars\",fontweight = 'bold')"
   ]
  },
  {
   "cell_type": "markdown",
   "id": "4860c730",
   "metadata": {},
   "source": [
    "## 2.5 Insight 5\n",
    "\n",
    "This bar chart shows how many cars are sold for each region in Saudi Arabia.\n",
    "\n",
    "- The Riyadh region is the highest selling area for cars in the Saudi Arabia and then Dammam."
   ]
  },
  {
   "cell_type": "code",
   "execution_count": 36,
   "id": "c4ea05a3",
   "metadata": {},
   "outputs": [
    {
     "name": "stderr",
     "output_type": "stream",
     "text": [
      "C:\\Users\\user\\anaconda3\\lib\\site-packages\\seaborn\\distributions.py:2619: FutureWarning: `distplot` is a deprecated function and will be removed in a future version. Please adapt your code to use either `displot` (a figure-level function with similar flexibility) or `histplot` (an axes-level function for histograms).\n",
      "  warnings.warn(msg, FutureWarning)\n"
     ]
    },
    {
     "data": {
      "image/png": "[encoded data removed]",
      "text/plain": [
       "<Figure size 1440x576 with 2 Axes>"
      ]
     },
     "metadata": {},
     "output_type": "display_data"
    }
   ],
   "source": [
    "plt.figure(figsize=(20,8))\n",
    "\n",
    "plt.subplot(1,2,1)\n",
    "plt.title('Car Price Distribution Plot')\n",
    "sns.distplot(Used_Cars.Price)\n",
    "\n",
    "plt.subplot(1,2,2)\n",
    "plt.title('Car Price Spread')\n",
    "sns.boxplot(y=Used_Cars.Price)\n",
    "\n",
    "plt.show()"
   ]
  },
  {
   "cell_type": "markdown",
   "id": "471e2790",
   "metadata": {},
   "source": [
    "## 2.6 Insight 6\n",
    "\n",
    "This plot shows the cars price distrbuition whice the cars priced between 200000 and less are the most sold in Saudi Arabia."
   ]
  },
  {
   "cell_type": "code",
   "execution_count": 27,
   "id": "b8e11d71",
   "metadata": {},
   "outputs": [
    {
     "name": "stdout",
     "output_type": "stream",
     "text": [
      "count    5.469000e+03\n",
      "mean     7.963943e+04\n",
      "std      7.475712e+04\n",
      "min      4.500000e+03\n",
      "25%      3.600000e+04\n",
      "50%      5.860000e+04\n",
      "75%      9.500000e+04\n",
      "85%      1.290000e+05\n",
      "90%      1.550000e+05\n",
      "100%     1.150000e+06\n",
      "max      1.150000e+06\n",
      "Name: Price, dtype: float64\n"
     ]
    }
   ],
   "source": [
    "print(Used_Cars.Price.describe(percentiles = [0.25,0.50,0.75,0.85,0.90,1]))"
   ]
  },
  {
   "cell_type": "markdown",
   "id": "13d33d38",
   "metadata": {},
   "source": [
    "The plot seemed to be right-skewed, meaning that the most prices in the dataset are low(Below 15,000). There is a significant difference between the mean and the median of the price distribution. The data points are far spread out from the mean, which indicates a high variance in the car prices.(85% of the prices are below 18,500, whereas the remaining 15% are between 18,500 and 45,400.)"
   ]
  },
  {
   "cell_type": "code",
   "execution_count": 28,
   "id": "93696243",
   "metadata": {},
   "outputs": [
    {
     "data": {
      "text/plain": [
       "Text(0, 0.5, 'Count of cars')"
      ]
     },
     "execution_count": 28,
     "metadata": {},
     "output_type": "execute_result"
    },
    {
     "data": {
      "image/png": "[encoded data removed]",
      "text/plain": [
       "<Figure size 576x360 with 1 Axes>"
      ]
     },
     "metadata": {},
     "output_type": "display_data"
    }
   ],
   "source": [
    "plt.figure(figsize = (8, 5))\n",
    "plot = sns.countplot(x = 'Fuel_Type', data = Used_Cars)\n",
    "plt.xticks(rotation = 90)\n",
    "for p in plot.patches:\n",
    "    plot.annotate(p.get_height(), \n",
    "                        (p.get_x() + p.get_width() / 2.0, \n",
    "                         p.get_height()), \n",
    "                        ha = 'center', \n",
    "                        va = 'center', \n",
    "                        xytext = (0, 5),\n",
    "                        textcoords = 'offset points')\n",
    "\n",
    "plt.title(\"Count of cars based on Fuel_Type\")\n",
    "plt.xlabel(\"Fuel_Type\")\n",
    "plt.ylabel(\"Count of cars\")"
   ]
  },
  {
   "cell_type": "markdown",
   "id": "c895941e",
   "metadata": {},
   "source": [
    "## 2.7 Insight 7\n",
    "\n",
    "This bar chart shows the count of cars based on fuel Model.\n",
    "\n",
    "- There are three Models of fuel which are Gas , Diesel and Hybrid.\n",
    "\n",
    "- The Gas Model contains the highest amount of cars and it has 4068 cars."
   ]
  },
  {
   "cell_type": "code",
   "execution_count": 29,
   "id": "4fd0ee0b",
   "metadata": {},
   "outputs": [
    {
     "data": {
      "text/plain": [
       "Text(0, 0.5, 'Count of Options')"
      ]
     },
     "execution_count": 29,
     "metadata": {},
     "output_type": "execute_result"
    },
    {
     "data": {
      "image/png": "[encoded data removed]",
      "text/plain": [
       "<Figure size 576x360 with 1 Axes>"
      ]
     },
     "metadata": {},
     "output_type": "display_data"
    }
   ],
   "source": [
    "plt.figure(figsize = (8, 5))\n",
    "plot = sns.countplot(x = 'Options', data = Used_Cars)\n",
    "plt.xticks(rotation = 90)\n",
    "for p in plot.patches:\n",
    "    plot.annotate(p.get_height(), \n",
    "                        (p.get_x() + p.get_width() / 2.0, \n",
    "                         p.get_height()), \n",
    "                        ha = 'center', \n",
    "                        va = 'center', \n",
    "                        xytext = (0, 5),\n",
    "                        textcoords = 'offset points')\n",
    "\n",
    "plt.title(\"Count of cars based on Options\")\n",
    "plt.xlabel(\"Options\")\n",
    "plt.ylabel(\"Count of Options\")"
   ]
  },
  {
   "cell_type": "markdown",
   "id": "12812970",
   "metadata": {},
   "source": [
    "## 2.8 Insight 8\n",
    "\n",
    "This bar chart shows the count of cars based on options.\n",
    "\n",
    "- There are three Models of options which are Full , Standard and Semi Full.\n",
    "\n",
    "- The Standard option has the highest amount of cars while the Semi Full is less."
   ]
  },
  {
   "cell_type": "code",
   "execution_count": 30,
   "id": "5c324965",
   "metadata": {},
   "outputs": [
    {
     "name": "stderr",
     "output_type": "stream",
     "text": [
      "C:\\Users\\user\\anaconda3\\lib\\site-packages\\seaborn\\_decorators.py:36: FutureWarning: Pass the following variable as a keyword arg: x. From version 0.12, the only valid positional argument will be `data`, and passing other arguments without an explicit keyword will result in an error or misinterpretation.\n",
      "  warnings.warn(\n"
     ]
    },
    {
     "data": {
      "image/png": "[encoded data removed]",
      "text/plain": [
       "<Figure size 1440x576 with 2 Axes>"
      ]
     },
     "metadata": {},
     "output_type": "display_data"
    }
   ],
   "source": [
    "plt.figure(figsize=(20,8))\n",
    "\n",
    "plt.subplot(1,2,1)\n",
    "plt.title('Options Histogram')\n",
    "sns.countplot(Used_Cars.Options, palette=(\"cubehelix\"))\n",
    "\n",
    "plt.subplot(1,2,2)\n",
    "plt.title('Options vs Price')\n",
    "sns.boxplot(x=Used_Cars.Options, y=Used_Cars.Price, palette=(\"cubehelix\"))\n",
    "\n",
    "plt.show()"
   ]
  },
  {
   "cell_type": "markdown",
   "id": "049fb179",
   "metadata": {},
   "source": [
    "## 2.9 Insight 9\n",
    "\n",
    "This boxplot shows the price for each options (Full , Standard , Semi Full).\n",
    "\n",
    "- The Full Model is more expensive than the others Models."
   ]
  },
  {
   "cell_type": "code",
   "execution_count": 31,
   "id": "455e3b61",
   "metadata": {},
   "outputs": [
    {
     "name": "stderr",
     "output_type": "stream",
     "text": [
      "C:\\Users\\user\\anaconda3\\lib\\site-packages\\seaborn\\_decorators.py:36: FutureWarning: Pass the following variable as a keyword arg: x. From version 0.12, the only valid positional argument will be `data`, and passing other arguments without an explicit keyword will result in an error or misinterpretation.\n",
      "  warnings.warn(\n"
     ]
    },
    {
     "data": {
      "image/png": "[encoded data removed]",
      "text/plain": [
       "<Figure size 1440x576 with 2 Axes>"
      ]
     },
     "metadata": {},
     "output_type": "display_data"
    }
   ],
   "source": [
    "plt.figure(figsize=(20,8))\n",
    "\n",
    "plt.subplot(1,2,1)\n",
    "plt.title('Fuel_Type Histogram')\n",
    "sns.countplot(Used_Cars.Fuel_Type, palette=(\"cubehelix\"))\n",
    "\n",
    "plt.subplot(1,2,2)\n",
    "plt.title('Fuel_Type vs Price')\n",
    "sns.boxplot(x=Used_Cars.Fuel_Type, y=Used_Cars.Price, palette=(\"cubehelix\"))\n",
    "\n",
    "plt.show()"
   ]
  },
  {
   "cell_type": "markdown",
   "id": "dd2ee05f",
   "metadata": {},
   "source": [
    "## 2.10 Insight 10\n",
    "\n",
    "This boxplot shows the price for each Fuel Model (Gas, Diesel , Hybrid).\n",
    "\n",
    "- The Gas Model is more expensive than the others Models."
   ]
  },
  {
   "cell_type": "code",
   "execution_count": 37,
   "id": "8cbfad21",
   "metadata": {},
   "outputs": [
    {
     "data": {
      "text/plain": [
       "[Text(0.5, 0, 'Colors'), Text(0, 0.5, 'Frequency of company')]"
      ]
     },
     "execution_count": 37,
     "metadata": {},
     "output_type": "execute_result"
    },
    {
     "data": {
      "image/png": "[encoded data removed]",
      "text/plain": [
       "<Figure size 1080x576 with 1 Axes>"
      ]
     },
     "metadata": {},
     "output_type": "display_data"
    }
   ],
   "source": [
    "plt1 = Used_Cars.Color.value_counts().plot(kind='bar',colormap = 'PiYG_r')\n",
    "plt.title('Colors ')\n",
    "plt1.set(xlabel = 'Colors', ylabel='Frequency of company')\n"
   ]
  },
  {
   "cell_type": "markdown",
   "id": "a3ade926",
   "metadata": {},
   "source": [
    "## 2.11 Insight 11\n",
    "\n",
    "This bar chart shows diffrent colors and the frequency of colors.\n",
    "\n",
    "- White is the most sold color."
   ]
  },
  {
   "cell_type": "code",
   "execution_count": 38,
   "id": "722f34a8",
   "metadata": {},
   "outputs": [
    {
     "data": {
      "image/png": "[encoded data removed]",
      "text/plain": [
       "<Figure size 1008x720 with 3 Axes>"
      ]
     },
     "metadata": {},
     "output_type": "display_data"
    }
   ],
   "source": [
    "plt.figure(figsize=(14,10))\n",
    "\n",
    "plt.subplot(1,3,1)\n",
    "plt1 = Used_Cars.Color.value_counts().plot(kind='bar')\n",
    "plt.title('Colors ')\n",
    "plt1.set(xlabel = 'Colors', ylabel='Frequency of company')\n",
    "\n",
    "plt.subplot(1,3,2)\n",
    "plt1 = Used_Cars.Fuel_Type.value_counts().plot(kind='bar')\n",
    "plt.title('Fuel Type ')\n",
    "plt1.set(xlabel = 'Fuel Type', ylabel='Frequency of fuel Model')\n",
    "\n",
    "plt.subplot(1,3,3)\n",
    "plt1 = Used_Cars.Options.value_counts().plot(kind='bar')\n",
    "plt.title('Car Options ')\n",
    "plt1.set(xlabel = 'Car Options', ylabel='Frequency of Car Model')\n",
    "\n",
    "plt.show()\n"
   ]
  },
  {
   "cell_type": "markdown",
   "id": "e8001afd",
   "metadata": {},
   "source": [
    "## 2.12 Insight 12\n",
    "\n",
    "These are three bra charts that show us:\n",
    "\n",
    "- White is the most sold color\n",
    "\n",
    "- Gas is more expensive than the others fuel Models.\n",
    "\n",
    "- The Standard option has the highest amount of cars while the Semi Full is less."
   ]
  },
  {
   "cell_type": "markdown",
   "id": "1418c4e8",
   "metadata": {},
   "source": [
    "# ---------------------------------------------------------------------------------------------------------\n",
    "\n"
   ]
  },
  {
   "cell_type": "markdown",
   "id": "1ec204b4",
   "metadata": {},
   "source": [
    "***\n",
    "# 3. ML Regression Section \n",
    "\n",
    "## \"Price\"  Prediction \n",
    "***"
   ]
  },
  {
   "cell_type": "markdown",
   "id": "e075178d",
   "metadata": {},
   "source": [
    "## 3.1 Feature Engineering and Feature Selection"
   ]
  },
  {
   "cell_type": "code",
   "execution_count": 39,
   "id": "7bcbf790",
   "metadata": {},
   "outputs": [
    {
     "data": {
      "text/html": [
       "<div>\n",
       "<style scoped>\n",
       "    .dataframe tbody tr th:only-of-type {\n",
       "        vertical-align: middle;\n",
       "    }\n",
       "\n",
       "    .dataframe tbody tr th {\n",
       "        vertical-align: top;\n",
       "    }\n",
       "\n",
       "    .dataframe thead th {\n",
       "        text-align: right;\n",
       "    }\n",
       "</style>\n",
       "<table border=\"1\" class=\"dataframe\">\n",
       "  <thead>\n",
       "    <tr style=\"text-align: right;\">\n",
       "      <th></th>\n",
       "      <th>Make</th>\n",
       "      <th>Car_Model</th>\n",
       "      <th>Year</th>\n",
       "      <th>Origin</th>\n",
       "      <th>Color</th>\n",
       "      <th>Options</th>\n",
       "      <th>Engine_Size</th>\n",
       "      <th>Fuel_Type</th>\n",
       "      <th>Gear_Type</th>\n",
       "      <th>Mileage</th>\n",
       "      <th>Region</th>\n",
       "      <th>Price</th>\n",
       "    </tr>\n",
       "  </thead>\n",
       "  <tbody>\n",
       "    <tr>\n",
       "      <th>0</th>\n",
       "      <td>Chrysler</td>\n",
       "      <td>C300</td>\n",
       "      <td>2018</td>\n",
       "      <td>Saudi</td>\n",
       "      <td>Black</td>\n",
       "      <td>Full</td>\n",
       "      <td>5</td>\n",
       "      <td>Gas</td>\n",
       "      <td>Automatic</td>\n",
       "      <td>103000</td>\n",
       "      <td>Riyadh</td>\n",
       "      <td>114000.0</td>\n",
       "    </tr>\n",
       "    <tr>\n",
       "      <th>2</th>\n",
       "      <td>Nissan</td>\n",
       "      <td>Sunny</td>\n",
       "      <td>2019</td>\n",
       "      <td>Saudi</td>\n",
       "      <td>Silver</td>\n",
       "      <td>Standard</td>\n",
       "      <td>1</td>\n",
       "      <td>Gas</td>\n",
       "      <td>Automatic</td>\n",
       "      <td>72418</td>\n",
       "      <td>Riyadh</td>\n",
       "      <td>27500.0</td>\n",
       "    </tr>\n",
       "    <tr>\n",
       "      <th>3</th>\n",
       "      <td>Hyundai</td>\n",
       "      <td>Elantra</td>\n",
       "      <td>2019</td>\n",
       "      <td>Saudi</td>\n",
       "      <td>Grey</td>\n",
       "      <td>Standard</td>\n",
       "      <td>1</td>\n",
       "      <td>Gas</td>\n",
       "      <td>Automatic</td>\n",
       "      <td>114154</td>\n",
       "      <td>Riyadh</td>\n",
       "      <td>43000.0</td>\n",
       "    </tr>\n",
       "    <tr>\n",
       "      <th>4</th>\n",
       "      <td>Hyundai</td>\n",
       "      <td>Elantra</td>\n",
       "      <td>2019</td>\n",
       "      <td>Saudi</td>\n",
       "      <td>Silver</td>\n",
       "      <td>Semi Full</td>\n",
       "      <td>2</td>\n",
       "      <td>Gas</td>\n",
       "      <td>Automatic</td>\n",
       "      <td>41912</td>\n",
       "      <td>Riyadh</td>\n",
       "      <td>59500.0</td>\n",
       "    </tr>\n",
       "    <tr>\n",
       "      <th>5</th>\n",
       "      <td>Honda</td>\n",
       "      <td>Accord</td>\n",
       "      <td>2018</td>\n",
       "      <td>Saudi</td>\n",
       "      <td>Navy</td>\n",
       "      <td>Full</td>\n",
       "      <td>1</td>\n",
       "      <td>Gas</td>\n",
       "      <td>Automatic</td>\n",
       "      <td>39000</td>\n",
       "      <td>Riyadh</td>\n",
       "      <td>72000.0</td>\n",
       "    </tr>\n",
       "  </tbody>\n",
       "</table>\n",
       "</div>"
      ],
      "text/plain": [
       "       Make Car_Model  Year Origin   Color    Options  Engine_Size Fuel_Type  \\\n",
       "0  Chrysler      C300  2018  Saudi   Black       Full            5       Gas   \n",
       "2    Nissan     Sunny  2019  Saudi  Silver   Standard            1       Gas   \n",
       "3   Hyundai   Elantra  2019  Saudi    Grey   Standard            1       Gas   \n",
       "4   Hyundai   Elantra  2019  Saudi  Silver  Semi Full            2       Gas   \n",
       "5     Honda    Accord  2018  Saudi    Navy       Full            1       Gas   \n",
       "\n",
       "   Gear_Type  Mileage  Region     Price  \n",
       "0  Automatic   103000  Riyadh  114000.0  \n",
       "2  Automatic    72418  Riyadh   27500.0  \n",
       "3  Automatic   114154  Riyadh   43000.0  \n",
       "4  Automatic    41912  Riyadh   59500.0  \n",
       "5  Automatic    39000  Riyadh   72000.0  "
      ]
     },
     "execution_count": 39,
     "metadata": {},
     "output_type": "execute_result"
    }
   ],
   "source": [
    "Used_Cars.head()"
   ]
  },
  {
   "cell_type": "code",
   "execution_count": 40,
   "id": "35add34a",
   "metadata": {},
   "outputs": [
    {
     "data": {
      "text/plain": [
       "(5469, 498)"
      ]
     },
     "execution_count": 40,
     "metadata": {},
     "output_type": "execute_result"
    }
   ],
   "source": [
    "# Take only the significat variables\n",
    "Used_Cars_Reg = Used_Cars[['Make','Car_Model','Year','Color','Options','Engine_Size','Gear_Type', 'Mileage','Region','Price']]\n",
    "Categorical_Valiables = ['Make','Car_Model','Color','Options','Gear_Type','Region'] # Categorical Valiables\n",
    "\n",
    "# Get the dummy variables for the categorical feature and store it in a new variable 'Dummies'\n",
    "Dummies = pd.get_dummies(Used_Cars_Reg[Categorical_Valiables])\n",
    "# Add the results to the original dataframe\n",
    "Used_Cars_Reg = pd.concat([Used_Cars_Reg, Dummies], axis = 1)\n",
    "# Drop the original Categorical Valiables as Dummies are already created\n",
    "Used_Cars_Reg.drop(Categorical_Valiables, axis = 1, inplace = True)\n",
    "\n",
    "Used_Cars_Reg.shape"
   ]
  },
  {
   "cell_type": "code",
   "execution_count": 41,
   "id": "173a6ccf",
   "metadata": {
    "scrolled": true
   },
   "outputs": [
    {
     "data": {
      "text/html": [
       "<div>\n",
       "<style scoped>\n",
       "    .dataframe tbody tr th:only-of-type {\n",
       "        vertical-align: middle;\n",
       "    }\n",
       "\n",
       "    .dataframe tbody tr th {\n",
       "        vertical-align: top;\n",
       "    }\n",
       "\n",
       "    .dataframe thead th {\n",
       "        text-align: right;\n",
       "    }\n",
       "</style>\n",
       "<table border=\"1\" class=\"dataframe\">\n",
       "  <thead>\n",
       "    <tr style=\"text-align: right;\">\n",
       "      <th></th>\n",
       "      <th>Year</th>\n",
       "      <th>Engine_Size</th>\n",
       "      <th>Mileage</th>\n",
       "      <th>Price</th>\n",
       "      <th>Make_Ashok</th>\n",
       "      <th>Make_Aston Martin</th>\n",
       "      <th>Make_Audi</th>\n",
       "      <th>Make_BMW</th>\n",
       "      <th>Make_BYD</th>\n",
       "      <th>Make_Bentley</th>\n",
       "      <th>...</th>\n",
       "      <th>Region_Najran</th>\n",
       "      <th>Region_Qassim</th>\n",
       "      <th>Region_Qurayyat</th>\n",
       "      <th>Region_Riyadh</th>\n",
       "      <th>Region_Sabya</th>\n",
       "      <th>Region_Sakaka</th>\n",
       "      <th>Region_Tabouk</th>\n",
       "      <th>Region_Taef</th>\n",
       "      <th>Region_Wadi Dawasir</th>\n",
       "      <th>Region_Yanbu</th>\n",
       "    </tr>\n",
       "  </thead>\n",
       "  <tbody>\n",
       "    <tr>\n",
       "      <th>0</th>\n",
       "      <td>2018</td>\n",
       "      <td>5</td>\n",
       "      <td>103000</td>\n",
       "      <td>114000.0</td>\n",
       "      <td>0</td>\n",
       "      <td>0</td>\n",
       "      <td>0</td>\n",
       "      <td>0</td>\n",
       "      <td>0</td>\n",
       "      <td>0</td>\n",
       "      <td>...</td>\n",
       "      <td>0</td>\n",
       "      <td>0</td>\n",
       "      <td>0</td>\n",
       "      <td>1</td>\n",
       "      <td>0</td>\n",
       "      <td>0</td>\n",
       "      <td>0</td>\n",
       "      <td>0</td>\n",
       "      <td>0</td>\n",
       "      <td>0</td>\n",
       "    </tr>\n",
       "    <tr>\n",
       "      <th>2</th>\n",
       "      <td>2019</td>\n",
       "      <td>1</td>\n",
       "      <td>72418</td>\n",
       "      <td>27500.0</td>\n",
       "      <td>0</td>\n",
       "      <td>0</td>\n",
       "      <td>0</td>\n",
       "      <td>0</td>\n",
       "      <td>0</td>\n",
       "      <td>0</td>\n",
       "      <td>...</td>\n",
       "      <td>0</td>\n",
       "      <td>0</td>\n",
       "      <td>0</td>\n",
       "      <td>1</td>\n",
       "      <td>0</td>\n",
       "      <td>0</td>\n",
       "      <td>0</td>\n",
       "      <td>0</td>\n",
       "      <td>0</td>\n",
       "      <td>0</td>\n",
       "    </tr>\n",
       "    <tr>\n",
       "      <th>3</th>\n",
       "      <td>2019</td>\n",
       "      <td>1</td>\n",
       "      <td>114154</td>\n",
       "      <td>43000.0</td>\n",
       "      <td>0</td>\n",
       "      <td>0</td>\n",
       "      <td>0</td>\n",
       "      <td>0</td>\n",
       "      <td>0</td>\n",
       "      <td>0</td>\n",
       "      <td>...</td>\n",
       "      <td>0</td>\n",
       "      <td>0</td>\n",
       "      <td>0</td>\n",
       "      <td>1</td>\n",
       "      <td>0</td>\n",
       "      <td>0</td>\n",
       "      <td>0</td>\n",
       "      <td>0</td>\n",
       "      <td>0</td>\n",
       "      <td>0</td>\n",
       "    </tr>\n",
       "    <tr>\n",
       "      <th>4</th>\n",
       "      <td>2019</td>\n",
       "      <td>2</td>\n",
       "      <td>41912</td>\n",
       "      <td>59500.0</td>\n",
       "      <td>0</td>\n",
       "      <td>0</td>\n",
       "      <td>0</td>\n",
       "      <td>0</td>\n",
       "      <td>0</td>\n",
       "      <td>0</td>\n",
       "      <td>...</td>\n",
       "      <td>0</td>\n",
       "      <td>0</td>\n",
       "      <td>0</td>\n",
       "      <td>1</td>\n",
       "      <td>0</td>\n",
       "      <td>0</td>\n",
       "      <td>0</td>\n",
       "      <td>0</td>\n",
       "      <td>0</td>\n",
       "      <td>0</td>\n",
       "    </tr>\n",
       "    <tr>\n",
       "      <th>5</th>\n",
       "      <td>2018</td>\n",
       "      <td>1</td>\n",
       "      <td>39000</td>\n",
       "      <td>72000.0</td>\n",
       "      <td>0</td>\n",
       "      <td>0</td>\n",
       "      <td>0</td>\n",
       "      <td>0</td>\n",
       "      <td>0</td>\n",
       "      <td>0</td>\n",
       "      <td>...</td>\n",
       "      <td>0</td>\n",
       "      <td>0</td>\n",
       "      <td>0</td>\n",
       "      <td>1</td>\n",
       "      <td>0</td>\n",
       "      <td>0</td>\n",
       "      <td>0</td>\n",
       "      <td>0</td>\n",
       "      <td>0</td>\n",
       "      <td>0</td>\n",
       "    </tr>\n",
       "  </tbody>\n",
       "</table>\n",
       "<p>5 rows × 498 columns</p>\n",
       "</div>"
      ],
      "text/plain": [
       "   Year  Engine_Size  Mileage     Price  Make_Ashok  Make_Aston Martin  \\\n",
       "0  2018            5   103000  114000.0           0                  0   \n",
       "2  2019            1    72418   27500.0           0                  0   \n",
       "3  2019            1   114154   43000.0           0                  0   \n",
       "4  2019            2    41912   59500.0           0                  0   \n",
       "5  2018            1    39000   72000.0           0                  0   \n",
       "\n",
       "   Make_Audi  Make_BMW  Make_BYD  Make_Bentley  ...  Region_Najran  \\\n",
       "0          0         0         0             0  ...              0   \n",
       "2          0         0         0             0  ...              0   \n",
       "3          0         0         0             0  ...              0   \n",
       "4          0         0         0             0  ...              0   \n",
       "5          0         0         0             0  ...              0   \n",
       "\n",
       "   Region_Qassim  Region_Qurayyat  Region_Riyadh  Region_Sabya  Region_Sakaka  \\\n",
       "0              0                0              1             0              0   \n",
       "2              0                0              1             0              0   \n",
       "3              0                0              1             0              0   \n",
       "4              0                0              1             0              0   \n",
       "5              0                0              1             0              0   \n",
       "\n",
       "   Region_Tabouk  Region_Taef  Region_Wadi Dawasir  Region_Yanbu  \n",
       "0              0            0                    0             0  \n",
       "2              0            0                    0             0  \n",
       "3              0            0                    0             0  \n",
       "4              0            0                    0             0  \n",
       "5              0            0                    0             0  \n",
       "\n",
       "[5 rows x 498 columns]"
      ]
     },
     "execution_count": 41,
     "metadata": {},
     "output_type": "execute_result"
    }
   ],
   "source": [
    "Used_Cars_Reg.head()"
   ]
  },
  {
   "cell_type": "code",
   "execution_count": 42,
   "id": "c288721a",
   "metadata": {},
   "outputs": [
    {
     "data": {
      "text/plain": [
       "45000.0     0.025782\n",
       "55000.0     0.023039\n",
       "35000.0     0.022673\n",
       "30000.0     0.021393\n",
       "50000.0     0.020845\n",
       "              ...   \n",
       "123500.0    0.000183\n",
       "124500.0    0.000183\n",
       "54900.0     0.000183\n",
       "132500.0    0.000183\n",
       "95800.0     0.000183\n",
       "Name: Price, Length: 459, dtype: float64"
      ]
     },
     "execution_count": 42,
     "metadata": {},
     "output_type": "execute_result"
    }
   ],
   "source": [
    "# The baseline of our model\n",
    "Used_Cars_Reg[\"Price\"].value_counts(normalize=True)"
   ]
  },
  {
   "cell_type": "code",
   "execution_count": 43,
   "id": "2e889001",
   "metadata": {},
   "outputs": [],
   "source": [
    "# Selecting the features and target variables\n",
    "\n",
    "Target_var = \"Price\" \n",
    "Target = Used_Cars_Reg[Target_var]\n",
    "\n",
    "Features = Used_Cars_Reg.drop(Target_var, axis=1).astype('int') "
   ]
  },
  {
   "cell_type": "markdown",
   "id": "cfeba889",
   "metadata": {},
   "source": [
    "## 3.2 Splitting The Dataset"
   ]
  },
  {
   "cell_type": "code",
   "execution_count": 44,
   "id": "05c93015",
   "metadata": {},
   "outputs": [
    {
     "name": "stdout",
     "output_type": "stream",
     "text": [
      "(4375, 497)\n",
      "(1094, 497)\n"
     ]
    }
   ],
   "source": [
    "# Assgin the feature set and the target for both the train and the test \n",
    "X_train, X_test, y_train, y_test = train_test_split(Features, Target, test_size=0.2, random_state=55)\n",
    "\n",
    "print(X_train.shape)\n",
    "print(X_test.shape)"
   ]
  },
  {
   "cell_type": "code",
   "execution_count": 46,
   "id": "6dd4547b",
   "metadata": {},
   "outputs": [],
   "source": [
    "# Instantiate Scaler Object\n",
    "scaler = StandardScaler()\n",
    "\n",
    "# Apply to X data --> only numeric columns \n",
    "X_train_scaled = scaler.fit_transform(X_train)\n",
    "X_test_scaled = scaler.transform(X_test)"
   ]
  },
  {
   "cell_type": "markdown",
   "id": "71f4b070",
   "metadata": {},
   "source": [
    "## 3.3 Train Models"
   ]
  },
  {
   "cell_type": "markdown",
   "id": "fb6fee4d",
   "metadata": {},
   "source": [
    "## 1st Regression Model "
   ]
  },
  {
   "cell_type": "markdown",
   "id": "cf5ca79d",
   "metadata": {},
   "source": [
    "### Decision Tree For Regression"
   ]
  },
  {
   "cell_type": "code",
   "execution_count": 47,
   "id": "4a65a0db",
   "metadata": {},
   "outputs": [
    {
     "name": "stdout",
     "output_type": "stream",
     "text": [
      "The fit for train dataset : DecisionTreeRegressor(max_depth=4, random_state=55)\n",
      "_________________________________________________________________________\n",
      "The predictions for X_test : [22881.27090301 79423.76470588 65402.08088235 ... 79423.76470588\n",
      " 79423.76470588 46702.3872679 ]\n"
     ]
    }
   ],
   "source": [
    "reg_tree = DecisionTreeRegressor(random_state = 55, max_depth= 4, criterion= 'squared_error')\n",
    "print('The fit for train dataset :', reg_tree.fit(X_train_scaled, y_train))\n",
    "\n",
    "print('_________________________________________________________________________')\n",
    "\n",
    "prediction_tree = reg_tree.predict(X_test_scaled)\n",
    "print('The predictions for X_test :', prediction_tree)\n",
    "\n"
   ]
  },
  {
   "cell_type": "markdown",
   "id": "bdff6b5f",
   "metadata": {},
   "source": [
    "## 2nd Regression Model  "
   ]
  },
  {
   "cell_type": "markdown",
   "id": "e3cdadd0",
   "metadata": {},
   "source": [
    "### Random Forest For Linear"
   ]
  },
  {
   "cell_type": "code",
   "execution_count": 48,
   "id": "e2e5813b",
   "metadata": {},
   "outputs": [
    {
     "name": "stdout",
     "output_type": "stream",
     "text": [
      "The fit for train dataset : RandomForestRegressor(n_estimators=10, random_state=55)\n",
      "_________________________________________________________________________\n",
      "The predictions for X_test : [ 18750.   52200.8  52750.  ...  48400.  132200.   31650. ]\n"
     ]
    }
   ],
   "source": [
    "reg_forest = RandomForestRegressor(n_estimators = 10, random_state = 55, criterion = 'squared_error')\n",
    "print('The fit for train dataset :', reg_forest.fit(X_train_scaled, y_train))\n",
    "\n",
    "print('_________________________________________________________________________')\n",
    "\n",
    "prediction_forest = reg_forest.predict(X_test_scaled)\n",
    "print('The predictions for X_test :', prediction_forest)\n"
   ]
  },
  {
   "cell_type": "markdown",
   "id": "2a4cff38",
   "metadata": {},
   "source": [
    "## 3rd Regression Model  "
   ]
  },
  {
   "cell_type": "markdown",
   "id": "24c11979",
   "metadata": {},
   "source": [
    "### Regression using XGBoost"
   ]
  },
  {
   "cell_type": "code",
   "execution_count": 49,
   "id": "0a450551",
   "metadata": {},
   "outputs": [
    {
     "name": "stdout",
     "output_type": "stream",
     "text": [
      "The fit for train dataset : XGBRegressor(base_score=0.5, booster='gbtree', callbacks=None,\n",
      "             colsample_bylevel=1, colsample_bynode=1, colsample_bytree=1,\n",
      "             early_stopping_rounds=None, enable_categorical=False,\n",
      "             eval_metric=None, gamma=0, gpu_id=-1, grow_policy='depthwise',\n",
      "             importance_type=None, interaction_constraints='',\n",
      "             learning_rate=0.300000012, max_bin=256, max_cat_to_onehot=4,\n",
      "             max_delta_step=0, max_depth=7, max_leaves=0, min_child_weight=1,\n",
      "             missing=nan, monotone_constraints='()', n_estimators=75, n_jobs=0,\n",
      "             num_parallel_tree=1, predictor='auto', random_state=0, reg_alpha=0,\n",
      "             reg_lambda=1, ...)\n",
      "_________________________________________________________________________\n",
      "The predictions : [ 25189.625  59773.812  43315.156 ...  54472.035 122435.79   18276.76 ]\n"
     ]
    }
   ],
   "source": [
    "xgb_reg = xgb.XGBRegressor(objective = \"reg:squarederror\",\n",
    "                           n_estimators = 75,\n",
    "                           subsample = 0.75,\n",
    "                           max_depth = 7)\n",
    "\n",
    "print('The fit for train dataset :', xgb_reg.fit(X_train_scaled, y_train))\n",
    "\n",
    "print('_________________________________________________________________________')\n",
    "\n",
    "prediction_XGBoost = xgb_reg.predict(X_test_scaled)\n",
    "print('The predictions :', prediction_XGBoost)\n"
   ]
  },
  {
   "cell_type": "markdown",
   "id": "deb126f6",
   "metadata": {},
   "source": [
    "## 3.4 Model Evaluation"
   ]
  },
  {
   "cell_type": "markdown",
   "id": "f66c451b",
   "metadata": {},
   "source": [
    "### Regression Analysis Summary"
   ]
  },
  {
   "cell_type": "code",
   "execution_count": 50,
   "id": "09029323",
   "metadata": {},
   "outputs": [],
   "source": [
    "# Function for evaluating regression models\n",
    "def Compare_Regression(method, actual, preds,model):\n",
    "    \n",
    "    val_train = round(model.score(X_train_scaled, y_train),2)*100\n",
    "    val_test = round(model.score(X_test_scaled, y_test),2)*100\n",
    "    \n",
    "    print(f'{method} Regression Model:')\n",
    "    print('-------------------------------------------------')\n",
    "    print('MAE:', metrics.mean_absolute_error(actual, preds))\n",
    "    print('MSE:', metrics.mean_squared_error(actual, preds))\n",
    "    print('RMSE:', np.sqrt(metrics.mean_squared_error(actual, preds)))\n",
    "    print(f'Training Accuracy: {val_train}%')\n",
    "    print(f'Test Set Accuracy: {val_test}%')\n",
    "    print('Score:', (r2_score(y_true=actual, y_pred=preds)*100),'\\n\\n ')\n",
    "    "
   ]
  },
  {
   "cell_type": "code",
   "execution_count": 51,
   "id": "ffa7e1b2",
   "metadata": {},
   "outputs": [
    {
     "name": "stdout",
     "output_type": "stream",
     "text": [
      "Decision Tree Regression Model:\n",
      "-------------------------------------------------\n",
      "MAE: 34200.19387371461\n",
      "MSE: 3824579451.2106957\n",
      "RMSE: 61843.18435535719\n",
      "Training Accuracy: 52.0%\n",
      "Test Set Accuracy: 33.0%\n",
      "Score: 32.73894202582047 \n",
      "\n",
      " \n",
      "Random Forest Regression Model:\n",
      "-------------------------------------------------\n",
      "MAE: 16195.750944546007\n",
      "MSE: 1444354416.2200975\n",
      "RMSE: 38004.66308520702\n",
      "Training Accuracy: 96.0%\n",
      "Test Set Accuracy: 75.0%\n",
      "Score: 74.5988265209423 \n",
      "\n",
      " \n",
      "XGBoost Regression Model:\n",
      "-------------------------------------------------\n",
      "MAE: 14693.252235203383\n",
      "MSE: 862906244.272786\n",
      "RMSE: 29375.265858759238\n",
      "Training Accuracy: 97.0%\n",
      "Test Set Accuracy: 85.0%\n",
      "Score: 84.82447870080449 \n",
      "\n",
      " \n"
     ]
    }
   ],
   "source": [
    "model_labels = ['Decision Tree', 'Random Forest', 'XGBoost']\n",
    "model_pred = [prediction_tree, prediction_forest, prediction_XGBoost]\n",
    "model_names = [reg_tree, reg_forest, xgb_reg]\n",
    "\n",
    "for x in range(len(model_pred)):\n",
    "    \n",
    "    Compare_Regression(model_labels[x],y_test, model_pred[x],model_names[x] )"
   ]
  },
  {
   "cell_type": "markdown",
   "id": "678920d6",
   "metadata": {},
   "source": [
    "## 3.5 Model Selection "
   ]
  },
  {
   "cell_type": "code",
   "execution_count": 52,
   "id": "e893ddd4",
   "metadata": {},
   "outputs": [],
   "source": [
    "# The selection of the best model was done based on the high degree of the accuracy of the model compared to other models\n",
    "# Subsequently, the best model was the third model which is \"XGBoost model\", \n",
    "# because it has an accuracy of training accuracy: 97.0% , and test set accuracy: 85.0%."
   ]
  },
  {
   "cell_type": "markdown",
   "id": "036173dd",
   "metadata": {},
   "source": [
    "## 3.6 Hyperparameter Tuning ( GridSearchCV )"
   ]
  },
  {
   "cell_type": "code",
   "execution_count": 65,
   "id": "0f4941e6",
   "metadata": {},
   "outputs": [],
   "source": [
    "# Various hyper-parameters to tune\n",
    "parameters = {'nthread':[4], \n",
    "              'learning_rate': [.03, 0.05, .07], \n",
    "              'max_depth': [5, 6, 7], \n",
    "              'n_estimators': [500]}\n",
    "\n",
    "xgb_grid = GridSearchCV(xgb_reg,\n",
    "                        parameters,\n",
    "                        cv = 2,\n",
    "                        n_jobs = 5,\n",
    "                        verbose=True)"
   ]
  },
  {
   "cell_type": "code",
   "execution_count": 66,
   "id": "64bfc955",
   "metadata": {},
   "outputs": [
    {
     "name": "stdout",
     "output_type": "stream",
     "text": [
      "Fitting 2 folds for each of 9 candidates, totalling 18 fits\n"
     ]
    }
   ],
   "source": [
    "xgb_grid.fit(X_train,y_train)\n",
    "xgb_pred = xgb_grid.predict(X_test_scaled)"
   ]
  },
  {
   "cell_type": "code",
   "execution_count": 68,
   "id": "8f8c985e",
   "metadata": {},
   "outputs": [
    {
     "name": "stdout",
     "output_type": "stream",
     "text": [
      "XGBoost Regression Model:\n",
      "-------------------------------------------------\n",
      "RMSE: 79925.2969425307\n",
      "The Best Score: 86.48789137775677\n",
      "The Best Params: {'learning_rate': 0.07, 'max_depth': 7, 'n_estimators': 500, 'nthread': 4}\n"
     ]
    }
   ],
   "source": [
    "print(f'XGBoost Regression Model:')\n",
    "print('-------------------------------------------------')\n",
    "print('RMSE:', np.sqrt(metrics.mean_squared_error(y_test, xgb_pred)))\n",
    "print('The Best Score:', (xgb_grid.best_score_)*100)\n",
    "print('The Best Params:', (xgb_grid.best_params_))\n"
   ]
  },
  {
   "cell_type": "markdown",
   "id": "8767fc93",
   "metadata": {},
   "source": [
    "## 3.7 ML Pipeline For The Best Model"
   ]
  },
  {
   "cell_type": "code",
   "execution_count": 69,
   "id": "9cdd5b94",
   "metadata": {},
   "outputs": [],
   "source": [
    "# Create a transformer for numeric columns\n",
    "numeric_features = X_train.describe().columns \n",
    "numeric_transformer = Pipeline(\n",
    "    steps=[\n",
    "        ('imputer', SimpleImputer()),\n",
    "        ('scaler', StandardScaler())\n",
    "    ]\n",
    ")"
   ]
  },
  {
   "cell_type": "code",
   "execution_count": 70,
   "id": "72c86516",
   "metadata": {},
   "outputs": [],
   "source": [
    "# Create Transformer for categorical data\n",
    "categorical_features = [col for col in X_train.columns if col not in X_train.describe().columns] # Return only categorical names\n",
    "categorical_transformer = Pipeline(\n",
    "    steps=[\n",
    "        ('cat_imputer', SimpleImputer(strategy=\"most_frequent\")),\n",
    "        ('one_hot', OneHotEncoder(handle_unknown='ignore')) # Ignore unseen categorical in transform step not seen in fit_transform\n",
    "    ]\n",
    ")"
   ]
  },
  {
   "cell_type": "code",
   "execution_count": 71,
   "id": "1c963424",
   "metadata": {},
   "outputs": [
    {
     "name": "stdout",
     "output_type": "stream",
     "text": [
      "model score: 84.82447870080449\n"
     ]
    }
   ],
   "source": [
    "# Create a preprocessor transformer\n",
    "preprocessor = ColumnTransformer(\n",
    "    transformers=[\n",
    "        ('num', numeric_transformer, numeric_features),\n",
    "        ('cat', categorical_transformer, categorical_features)\n",
    "    ]\n",
    ")\n",
    "\n",
    "# Append classifier to preprocessing pipeline.\n",
    "# Now we have a full prediction pipeline.\n",
    "clf = Pipeline(steps=[('preprocessor', preprocessor),\n",
    "                      ('classifier', xgb.XGBRegressor(objective = \"reg:squarederror\",\n",
    "                           n_estimators = 75,\n",
    "                           subsample = 0.75,\n",
    "                           max_depth = 7))])\n",
    "\n",
    "clf.fit(X_train, y_train)\n",
    "\n",
    "print(f\"model score: {clf.score(X_test, y_test)*100}\")"
   ]
  },
  {
   "cell_type": "markdown",
   "id": "a5f1a185",
   "metadata": {},
   "source": [
    "# -----------------------------------------------------------------------------------------------------------------"
   ]
  },
  {
   "cell_type": "markdown",
   "id": "8dcf50f9",
   "metadata": {},
   "source": [
    "***\n",
    "# 4. ML Classification Section \n",
    "\n",
    "## \"Options\" Prediction\n",
    "***"
   ]
  },
  {
   "cell_type": "markdown",
   "id": "3f11a372",
   "metadata": {},
   "source": [
    "## 4.1 Feature Engineering and Feature Selection"
   ]
  },
  {
   "cell_type": "code",
   "execution_count": 18,
   "id": "d1d6111f",
   "metadata": {},
   "outputs": [
    {
     "name": "stderr",
     "output_type": "stream",
     "text": [
      "/var/folders/kf/49p1gd_s7575f064qk45x2q40000gn/T/ipykernel_2421/3267799177.py:6: SettingWithCopyWarning: \n",
      "A value is trying to be set on a copy of a slice from a DataFrame.\n",
      "Try using .loc[row_indexer,col_indexer] = value instead\n",
      "\n",
      "See the caveats in the documentation: https://pandas.pydata.org/pandas-docs/stable/user_guide/indexing.html#returning-a-view-versus-a-copy\n",
      "  Used_Cars_Class['Options'] = Used_Cars_Class['Options'].replace(Options_dict)\n"
     ]
    },
    {
     "data": {
      "text/plain": [
       "(8050, 542)"
      ]
     },
     "execution_count": 18,
     "metadata": {},
     "output_type": "execute_result"
    }
   ],
   "source": [
    "# Take only the significat variables that will be affect \n",
    "Used_Cars_Class = Used_Cars[\n",
    "    ['Make','Car_Model','Year','Color','Options','Engine_Size','Gear_Type', 'Mileage','Region','Price']]\n",
    " \n",
    "Options_dict={'Standard':0 ,'Semi Full':1, 'Full':2}\n",
    "Used_Cars_Class['Options'] = Used_Cars_Class['Options'].replace(Options_dict)\n",
    "\n",
    "Categorical_Valiables = ['Make','Car_Model','Color','Gear_Type','Region'] # Categorical Valiables\n",
    "\n",
    "# Get the dummy variables for the categorical feature and store it in a new variable 'dummies'\n",
    "Dummies = pd.get_dummies(Used_Cars_Class[Categorical_Valiables])\n",
    "# Add the results to the original dataframe\n",
    "Used_Cars_Class = pd.concat([Used_Cars_Class, Dummies], axis = 1)\n",
    "# Drop the original cat variables as dummies are already created\n",
    "Used_Cars_Class.drop(Categorical_Valiables, axis = 1, inplace = True)\n",
    "\n",
    "Used_Cars_Class.shape\n"
   ]
  },
  {
   "cell_type": "code",
   "execution_count": 19,
   "id": "5d4e3552",
   "metadata": {},
   "outputs": [
    {
     "ename": "IntCastingNaNError",
     "evalue": "Cannot convert non-finite values (NA or inf) to integer",
     "output_type": "error",
     "traceback": [
      "\u001b[0;31m---------------------------------------------------------------------------\u001b[0m",
      "\u001b[0;31mIntCastingNaNError\u001b[0m                        Traceback (most recent call last)",
      "Input \u001b[0;32mIn [19]\u001b[0m, in \u001b[0;36m<cell line: 1>\u001b[0;34m()\u001b[0m\n\u001b[0;32m----> 1\u001b[0m Used_Cars_Class\u001b[38;5;241m=\u001b[39m \u001b[43mUsed_Cars_Class\u001b[49m\u001b[38;5;241;43m.\u001b[39;49m\u001b[43mastype\u001b[49m\u001b[43m(\u001b[49m\u001b[38;5;124;43m'\u001b[39;49m\u001b[38;5;124;43mint\u001b[39;49m\u001b[38;5;124;43m'\u001b[39;49m\u001b[43m)\u001b[49m\n",
      "File \u001b[0;32m~/opt/anaconda3/lib/python3.9/site-packages/pandas/core/generic.py:5912\u001b[0m, in \u001b[0;36mNDFrame.astype\u001b[0;34m(self, dtype, copy, errors)\u001b[0m\n\u001b[1;32m   5905\u001b[0m     results \u001b[38;5;241m=\u001b[39m [\n\u001b[1;32m   5906\u001b[0m         \u001b[38;5;28mself\u001b[39m\u001b[38;5;241m.\u001b[39miloc[:, i]\u001b[38;5;241m.\u001b[39mastype(dtype, copy\u001b[38;5;241m=\u001b[39mcopy)\n\u001b[1;32m   5907\u001b[0m         \u001b[38;5;28;01mfor\u001b[39;00m i \u001b[38;5;129;01min\u001b[39;00m \u001b[38;5;28mrange\u001b[39m(\u001b[38;5;28mlen\u001b[39m(\u001b[38;5;28mself\u001b[39m\u001b[38;5;241m.\u001b[39mcolumns))\n\u001b[1;32m   5908\u001b[0m     ]\n\u001b[1;32m   5910\u001b[0m \u001b[38;5;28;01melse\u001b[39;00m:\n\u001b[1;32m   5911\u001b[0m     \u001b[38;5;66;03m# else, only a single dtype is given\u001b[39;00m\n\u001b[0;32m-> 5912\u001b[0m     new_data \u001b[38;5;241m=\u001b[39m \u001b[38;5;28;43mself\u001b[39;49m\u001b[38;5;241;43m.\u001b[39;49m\u001b[43m_mgr\u001b[49m\u001b[38;5;241;43m.\u001b[39;49m\u001b[43mastype\u001b[49m\u001b[43m(\u001b[49m\u001b[43mdtype\u001b[49m\u001b[38;5;241;43m=\u001b[39;49m\u001b[43mdtype\u001b[49m\u001b[43m,\u001b[49m\u001b[43m \u001b[49m\u001b[43mcopy\u001b[49m\u001b[38;5;241;43m=\u001b[39;49m\u001b[43mcopy\u001b[49m\u001b[43m,\u001b[49m\u001b[43m \u001b[49m\u001b[43merrors\u001b[49m\u001b[38;5;241;43m=\u001b[39;49m\u001b[43merrors\u001b[49m\u001b[43m)\u001b[49m\n\u001b[1;32m   5913\u001b[0m     \u001b[38;5;28;01mreturn\u001b[39;00m \u001b[38;5;28mself\u001b[39m\u001b[38;5;241m.\u001b[39m_constructor(new_data)\u001b[38;5;241m.\u001b[39m__finalize__(\u001b[38;5;28mself\u001b[39m, method\u001b[38;5;241m=\u001b[39m\u001b[38;5;124m\"\u001b[39m\u001b[38;5;124mastype\u001b[39m\u001b[38;5;124m\"\u001b[39m)\n\u001b[1;32m   5915\u001b[0m \u001b[38;5;66;03m# GH 33113: handle empty frame or series\u001b[39;00m\n",
      "File \u001b[0;32m~/opt/anaconda3/lib/python3.9/site-packages/pandas/core/internals/managers.py:419\u001b[0m, in \u001b[0;36mBaseBlockManager.astype\u001b[0;34m(self, dtype, copy, errors)\u001b[0m\n\u001b[1;32m    418\u001b[0m \u001b[38;5;28;01mdef\u001b[39;00m \u001b[38;5;21mastype\u001b[39m(\u001b[38;5;28mself\u001b[39m: T, dtype, copy: \u001b[38;5;28mbool\u001b[39m \u001b[38;5;241m=\u001b[39m \u001b[38;5;28;01mFalse\u001b[39;00m, errors: \u001b[38;5;28mstr\u001b[39m \u001b[38;5;241m=\u001b[39m \u001b[38;5;124m\"\u001b[39m\u001b[38;5;124mraise\u001b[39m\u001b[38;5;124m\"\u001b[39m) \u001b[38;5;241m-\u001b[39m\u001b[38;5;241m>\u001b[39m T:\n\u001b[0;32m--> 419\u001b[0m     \u001b[38;5;28;01mreturn\u001b[39;00m \u001b[38;5;28;43mself\u001b[39;49m\u001b[38;5;241;43m.\u001b[39;49m\u001b[43mapply\u001b[49m\u001b[43m(\u001b[49m\u001b[38;5;124;43m\"\u001b[39;49m\u001b[38;5;124;43mastype\u001b[39;49m\u001b[38;5;124;43m\"\u001b[39;49m\u001b[43m,\u001b[49m\u001b[43m \u001b[49m\u001b[43mdtype\u001b[49m\u001b[38;5;241;43m=\u001b[39;49m\u001b[43mdtype\u001b[49m\u001b[43m,\u001b[49m\u001b[43m \u001b[49m\u001b[43mcopy\u001b[49m\u001b[38;5;241;43m=\u001b[39;49m\u001b[43mcopy\u001b[49m\u001b[43m,\u001b[49m\u001b[43m \u001b[49m\u001b[43merrors\u001b[49m\u001b[38;5;241;43m=\u001b[39;49m\u001b[43merrors\u001b[49m\u001b[43m)\u001b[49m\n",
      "File \u001b[0;32m~/opt/anaconda3/lib/python3.9/site-packages/pandas/core/internals/managers.py:304\u001b[0m, in \u001b[0;36mBaseBlockManager.apply\u001b[0;34m(self, f, align_keys, ignore_failures, **kwargs)\u001b[0m\n\u001b[1;32m    302\u001b[0m         applied \u001b[38;5;241m=\u001b[39m b\u001b[38;5;241m.\u001b[39mapply(f, \u001b[38;5;241m*\u001b[39m\u001b[38;5;241m*\u001b[39mkwargs)\n\u001b[1;32m    303\u001b[0m     \u001b[38;5;28;01melse\u001b[39;00m:\n\u001b[0;32m--> 304\u001b[0m         applied \u001b[38;5;241m=\u001b[39m \u001b[38;5;28;43mgetattr\u001b[39;49m\u001b[43m(\u001b[49m\u001b[43mb\u001b[49m\u001b[43m,\u001b[49m\u001b[43m \u001b[49m\u001b[43mf\u001b[49m\u001b[43m)\u001b[49m\u001b[43m(\u001b[49m\u001b[38;5;241;43m*\u001b[39;49m\u001b[38;5;241;43m*\u001b[39;49m\u001b[43mkwargs\u001b[49m\u001b[43m)\u001b[49m\n\u001b[1;32m    305\u001b[0m \u001b[38;5;28;01mexcept\u001b[39;00m (\u001b[38;5;167;01mTypeError\u001b[39;00m, \u001b[38;5;167;01mNotImplementedError\u001b[39;00m):\n\u001b[1;32m    306\u001b[0m     \u001b[38;5;28;01mif\u001b[39;00m \u001b[38;5;129;01mnot\u001b[39;00m ignore_failures:\n",
      "File \u001b[0;32m~/opt/anaconda3/lib/python3.9/site-packages/pandas/core/internals/blocks.py:580\u001b[0m, in \u001b[0;36mBlock.astype\u001b[0;34m(self, dtype, copy, errors)\u001b[0m\n\u001b[1;32m    562\u001b[0m \u001b[38;5;124;03m\"\"\"\u001b[39;00m\n\u001b[1;32m    563\u001b[0m \u001b[38;5;124;03mCoerce to the new dtype.\u001b[39;00m\n\u001b[1;32m    564\u001b[0m \n\u001b[0;32m   (...)\u001b[0m\n\u001b[1;32m    576\u001b[0m \u001b[38;5;124;03mBlock\u001b[39;00m\n\u001b[1;32m    577\u001b[0m \u001b[38;5;124;03m\"\"\"\u001b[39;00m\n\u001b[1;32m    578\u001b[0m values \u001b[38;5;241m=\u001b[39m \u001b[38;5;28mself\u001b[39m\u001b[38;5;241m.\u001b[39mvalues\n\u001b[0;32m--> 580\u001b[0m new_values \u001b[38;5;241m=\u001b[39m \u001b[43mastype_array_safe\u001b[49m\u001b[43m(\u001b[49m\u001b[43mvalues\u001b[49m\u001b[43m,\u001b[49m\u001b[43m \u001b[49m\u001b[43mdtype\u001b[49m\u001b[43m,\u001b[49m\u001b[43m \u001b[49m\u001b[43mcopy\u001b[49m\u001b[38;5;241;43m=\u001b[39;49m\u001b[43mcopy\u001b[49m\u001b[43m,\u001b[49m\u001b[43m \u001b[49m\u001b[43merrors\u001b[49m\u001b[38;5;241;43m=\u001b[39;49m\u001b[43merrors\u001b[49m\u001b[43m)\u001b[49m\n\u001b[1;32m    582\u001b[0m new_values \u001b[38;5;241m=\u001b[39m maybe_coerce_values(new_values)\n\u001b[1;32m    583\u001b[0m newb \u001b[38;5;241m=\u001b[39m \u001b[38;5;28mself\u001b[39m\u001b[38;5;241m.\u001b[39mmake_block(new_values)\n",
      "File \u001b[0;32m~/opt/anaconda3/lib/python3.9/site-packages/pandas/core/dtypes/cast.py:1292\u001b[0m, in \u001b[0;36mastype_array_safe\u001b[0;34m(values, dtype, copy, errors)\u001b[0m\n\u001b[1;32m   1289\u001b[0m     dtype \u001b[38;5;241m=\u001b[39m dtype\u001b[38;5;241m.\u001b[39mnumpy_dtype\n\u001b[1;32m   1291\u001b[0m \u001b[38;5;28;01mtry\u001b[39;00m:\n\u001b[0;32m-> 1292\u001b[0m     new_values \u001b[38;5;241m=\u001b[39m \u001b[43mastype_array\u001b[49m\u001b[43m(\u001b[49m\u001b[43mvalues\u001b[49m\u001b[43m,\u001b[49m\u001b[43m \u001b[49m\u001b[43mdtype\u001b[49m\u001b[43m,\u001b[49m\u001b[43m \u001b[49m\u001b[43mcopy\u001b[49m\u001b[38;5;241;43m=\u001b[39;49m\u001b[43mcopy\u001b[49m\u001b[43m)\u001b[49m\n\u001b[1;32m   1293\u001b[0m \u001b[38;5;28;01mexcept\u001b[39;00m (\u001b[38;5;167;01mValueError\u001b[39;00m, \u001b[38;5;167;01mTypeError\u001b[39;00m):\n\u001b[1;32m   1294\u001b[0m     \u001b[38;5;66;03m# e.g. astype_nansafe can fail on object-dtype of strings\u001b[39;00m\n\u001b[1;32m   1295\u001b[0m     \u001b[38;5;66;03m#  trying to convert to float\u001b[39;00m\n\u001b[1;32m   1296\u001b[0m     \u001b[38;5;28;01mif\u001b[39;00m errors \u001b[38;5;241m==\u001b[39m \u001b[38;5;124m\"\u001b[39m\u001b[38;5;124mignore\u001b[39m\u001b[38;5;124m\"\u001b[39m:\n",
      "File \u001b[0;32m~/opt/anaconda3/lib/python3.9/site-packages/pandas/core/dtypes/cast.py:1237\u001b[0m, in \u001b[0;36mastype_array\u001b[0;34m(values, dtype, copy)\u001b[0m\n\u001b[1;32m   1234\u001b[0m     values \u001b[38;5;241m=\u001b[39m values\u001b[38;5;241m.\u001b[39mastype(dtype, copy\u001b[38;5;241m=\u001b[39mcopy)\n\u001b[1;32m   1236\u001b[0m \u001b[38;5;28;01melse\u001b[39;00m:\n\u001b[0;32m-> 1237\u001b[0m     values \u001b[38;5;241m=\u001b[39m \u001b[43mastype_nansafe\u001b[49m\u001b[43m(\u001b[49m\u001b[43mvalues\u001b[49m\u001b[43m,\u001b[49m\u001b[43m \u001b[49m\u001b[43mdtype\u001b[49m\u001b[43m,\u001b[49m\u001b[43m \u001b[49m\u001b[43mcopy\u001b[49m\u001b[38;5;241;43m=\u001b[39;49m\u001b[43mcopy\u001b[49m\u001b[43m)\u001b[49m\n\u001b[1;32m   1239\u001b[0m \u001b[38;5;66;03m# in pandas we don't store numpy str dtypes, so convert to object\u001b[39;00m\n\u001b[1;32m   1240\u001b[0m \u001b[38;5;28;01mif\u001b[39;00m \u001b[38;5;28misinstance\u001b[39m(dtype, np\u001b[38;5;241m.\u001b[39mdtype) \u001b[38;5;129;01mand\u001b[39;00m \u001b[38;5;28missubclass\u001b[39m(values\u001b[38;5;241m.\u001b[39mdtype\u001b[38;5;241m.\u001b[39mtype, \u001b[38;5;28mstr\u001b[39m):\n",
      "File \u001b[0;32m~/opt/anaconda3/lib/python3.9/site-packages/pandas/core/dtypes/cast.py:1098\u001b[0m, in \u001b[0;36mastype_nansafe\u001b[0;34m(arr, dtype, copy, skipna)\u001b[0m\n\u001b[1;32m   1096\u001b[0m \u001b[38;5;28;01mif\u001b[39;00m arr\u001b[38;5;241m.\u001b[39mndim \u001b[38;5;241m>\u001b[39m \u001b[38;5;241m1\u001b[39m:\n\u001b[1;32m   1097\u001b[0m     flat \u001b[38;5;241m=\u001b[39m arr\u001b[38;5;241m.\u001b[39mravel()\n\u001b[0;32m-> 1098\u001b[0m     result \u001b[38;5;241m=\u001b[39m \u001b[43mastype_nansafe\u001b[49m\u001b[43m(\u001b[49m\u001b[43mflat\u001b[49m\u001b[43m,\u001b[49m\u001b[43m \u001b[49m\u001b[43mdtype\u001b[49m\u001b[43m,\u001b[49m\u001b[43m \u001b[49m\u001b[43mcopy\u001b[49m\u001b[38;5;241;43m=\u001b[39;49m\u001b[43mcopy\u001b[49m\u001b[43m,\u001b[49m\u001b[43m \u001b[49m\u001b[43mskipna\u001b[49m\u001b[38;5;241;43m=\u001b[39;49m\u001b[43mskipna\u001b[49m\u001b[43m)\u001b[49m\n\u001b[1;32m   1099\u001b[0m     \u001b[38;5;66;03m# error: Item \"ExtensionArray\" of \"Union[ExtensionArray, ndarray]\" has no\u001b[39;00m\n\u001b[1;32m   1100\u001b[0m     \u001b[38;5;66;03m# attribute \"reshape\"\u001b[39;00m\n\u001b[1;32m   1101\u001b[0m     \u001b[38;5;28;01mreturn\u001b[39;00m result\u001b[38;5;241m.\u001b[39mreshape(arr\u001b[38;5;241m.\u001b[39mshape)  \u001b[38;5;66;03m# type: ignore[union-attr]\u001b[39;00m\n",
      "File \u001b[0;32m~/opt/anaconda3/lib/python3.9/site-packages/pandas/core/dtypes/cast.py:1148\u001b[0m, in \u001b[0;36mastype_nansafe\u001b[0;34m(arr, dtype, copy, skipna)\u001b[0m\n\u001b[1;32m   1145\u001b[0m     \u001b[38;5;28;01mraise\u001b[39;00m \u001b[38;5;167;01mTypeError\u001b[39;00m(\u001b[38;5;124mf\u001b[39m\u001b[38;5;124m\"\u001b[39m\u001b[38;5;124mcannot astype a timedelta from [\u001b[39m\u001b[38;5;132;01m{\u001b[39;00marr\u001b[38;5;241m.\u001b[39mdtype\u001b[38;5;132;01m}\u001b[39;00m\u001b[38;5;124m] to [\u001b[39m\u001b[38;5;132;01m{\u001b[39;00mdtype\u001b[38;5;132;01m}\u001b[39;00m\u001b[38;5;124m]\u001b[39m\u001b[38;5;124m\"\u001b[39m)\n\u001b[1;32m   1147\u001b[0m \u001b[38;5;28;01melif\u001b[39;00m np\u001b[38;5;241m.\u001b[39missubdtype(arr\u001b[38;5;241m.\u001b[39mdtype, np\u001b[38;5;241m.\u001b[39mfloating) \u001b[38;5;129;01mand\u001b[39;00m np\u001b[38;5;241m.\u001b[39missubdtype(dtype, np\u001b[38;5;241m.\u001b[39minteger):\n\u001b[0;32m-> 1148\u001b[0m     \u001b[38;5;28;01mreturn\u001b[39;00m \u001b[43mastype_float_to_int_nansafe\u001b[49m\u001b[43m(\u001b[49m\u001b[43marr\u001b[49m\u001b[43m,\u001b[49m\u001b[43m \u001b[49m\u001b[43mdtype\u001b[49m\u001b[43m,\u001b[49m\u001b[43m \u001b[49m\u001b[43mcopy\u001b[49m\u001b[43m)\u001b[49m\n\u001b[1;32m   1150\u001b[0m \u001b[38;5;28;01melif\u001b[39;00m is_object_dtype(arr\u001b[38;5;241m.\u001b[39mdtype):\n\u001b[1;32m   1151\u001b[0m \n\u001b[1;32m   1152\u001b[0m     \u001b[38;5;66;03m# work around NumPy brokenness, #1987\u001b[39;00m\n\u001b[1;32m   1153\u001b[0m     \u001b[38;5;28;01mif\u001b[39;00m np\u001b[38;5;241m.\u001b[39missubdtype(dtype\u001b[38;5;241m.\u001b[39mtype, np\u001b[38;5;241m.\u001b[39minteger):\n",
      "File \u001b[0;32m~/opt/anaconda3/lib/python3.9/site-packages/pandas/core/dtypes/cast.py:1193\u001b[0m, in \u001b[0;36mastype_float_to_int_nansafe\u001b[0;34m(values, dtype, copy)\u001b[0m\n\u001b[1;32m   1189\u001b[0m \u001b[38;5;124;03m\"\"\"\u001b[39;00m\n\u001b[1;32m   1190\u001b[0m \u001b[38;5;124;03mastype with a check preventing converting NaN to an meaningless integer value.\u001b[39;00m\n\u001b[1;32m   1191\u001b[0m \u001b[38;5;124;03m\"\"\"\u001b[39;00m\n\u001b[1;32m   1192\u001b[0m \u001b[38;5;28;01mif\u001b[39;00m \u001b[38;5;129;01mnot\u001b[39;00m np\u001b[38;5;241m.\u001b[39misfinite(values)\u001b[38;5;241m.\u001b[39mall():\n\u001b[0;32m-> 1193\u001b[0m     \u001b[38;5;28;01mraise\u001b[39;00m IntCastingNaNError(\n\u001b[1;32m   1194\u001b[0m         \u001b[38;5;124m\"\u001b[39m\u001b[38;5;124mCannot convert non-finite values (NA or inf) to integer\u001b[39m\u001b[38;5;124m\"\u001b[39m\n\u001b[1;32m   1195\u001b[0m     )\n\u001b[1;32m   1196\u001b[0m \u001b[38;5;28;01mreturn\u001b[39;00m values\u001b[38;5;241m.\u001b[39mastype(dtype, copy\u001b[38;5;241m=\u001b[39mcopy)\n",
      "\u001b[0;31mIntCastingNaNError\u001b[0m: Cannot convert non-finite values (NA or inf) to integer"
     ]
    }
   ],
   "source": [
    "Used_Cars_Class= Used_Cars_Class.astype('int')"
   ]
  },
  {
   "cell_type": "code",
   "execution_count": null,
   "id": "4891f94a",
   "metadata": {
    "scrolled": true
   },
   "outputs": [],
   "source": [
    "Used_Cars_Class.head()"
   ]
  },
  {
   "cell_type": "code",
   "execution_count": 101,
   "id": "aa5c765d",
   "metadata": {},
   "outputs": [
    {
     "data": {
      "text/plain": [
       "Full         0.383068\n",
       "Standard     0.350887\n",
       "Semi Full    0.266045\n",
       "Name: Options, dtype: float64"
      ]
     },
     "execution_count": 101,
     "metadata": {},
     "output_type": "execute_result"
    }
   ],
   "source": [
    "# The baseline of our model\n",
    "Used_Cars[\"Options\"].value_counts(normalize=True)"
   ]
  },
  {
   "cell_type": "code",
   "execution_count": 20,
   "id": "bf45a22d",
   "metadata": {},
   "outputs": [
    {
     "ename": "IntCastingNaNError",
     "evalue": "Cannot convert non-finite values (NA or inf) to integer",
     "output_type": "error",
     "traceback": [
      "\u001b[0;31m---------------------------------------------------------------------------\u001b[0m",
      "\u001b[0;31mIntCastingNaNError\u001b[0m                        Traceback (most recent call last)",
      "Input \u001b[0;32mIn [20]\u001b[0m, in \u001b[0;36m<cell line: 5>\u001b[0;34m()\u001b[0m\n\u001b[1;32m      2\u001b[0m Target_var \u001b[38;5;241m=\u001b[39m \u001b[38;5;124m\"\u001b[39m\u001b[38;5;124mOptions\u001b[39m\u001b[38;5;124m\"\u001b[39m \n\u001b[1;32m      4\u001b[0m Target \u001b[38;5;241m=\u001b[39m Used_Cars_Class[Target_var]\n\u001b[0;32m----> 5\u001b[0m Features \u001b[38;5;241m=\u001b[39m \u001b[43mUsed_Cars_Class\u001b[49m\u001b[38;5;241;43m.\u001b[39;49m\u001b[43mdrop\u001b[49m\u001b[43m(\u001b[49m\u001b[43mTarget_var\u001b[49m\u001b[43m,\u001b[49m\u001b[43m \u001b[49m\u001b[43maxis\u001b[49m\u001b[38;5;241;43m=\u001b[39;49m\u001b[38;5;241;43m1\u001b[39;49m\u001b[43m)\u001b[49m\u001b[38;5;241;43m.\u001b[39;49m\u001b[43mastype\u001b[49m\u001b[43m(\u001b[49m\u001b[38;5;124;43m'\u001b[39;49m\u001b[38;5;124;43mint\u001b[39;49m\u001b[38;5;124;43m'\u001b[39;49m\u001b[43m)\u001b[49m\n",
      "File \u001b[0;32m~/opt/anaconda3/lib/python3.9/site-packages/pandas/core/generic.py:5912\u001b[0m, in \u001b[0;36mNDFrame.astype\u001b[0;34m(self, dtype, copy, errors)\u001b[0m\n\u001b[1;32m   5905\u001b[0m     results \u001b[38;5;241m=\u001b[39m [\n\u001b[1;32m   5906\u001b[0m         \u001b[38;5;28mself\u001b[39m\u001b[38;5;241m.\u001b[39miloc[:, i]\u001b[38;5;241m.\u001b[39mastype(dtype, copy\u001b[38;5;241m=\u001b[39mcopy)\n\u001b[1;32m   5907\u001b[0m         \u001b[38;5;28;01mfor\u001b[39;00m i \u001b[38;5;129;01min\u001b[39;00m \u001b[38;5;28mrange\u001b[39m(\u001b[38;5;28mlen\u001b[39m(\u001b[38;5;28mself\u001b[39m\u001b[38;5;241m.\u001b[39mcolumns))\n\u001b[1;32m   5908\u001b[0m     ]\n\u001b[1;32m   5910\u001b[0m \u001b[38;5;28;01melse\u001b[39;00m:\n\u001b[1;32m   5911\u001b[0m     \u001b[38;5;66;03m# else, only a single dtype is given\u001b[39;00m\n\u001b[0;32m-> 5912\u001b[0m     new_data \u001b[38;5;241m=\u001b[39m \u001b[38;5;28;43mself\u001b[39;49m\u001b[38;5;241;43m.\u001b[39;49m\u001b[43m_mgr\u001b[49m\u001b[38;5;241;43m.\u001b[39;49m\u001b[43mastype\u001b[49m\u001b[43m(\u001b[49m\u001b[43mdtype\u001b[49m\u001b[38;5;241;43m=\u001b[39;49m\u001b[43mdtype\u001b[49m\u001b[43m,\u001b[49m\u001b[43m \u001b[49m\u001b[43mcopy\u001b[49m\u001b[38;5;241;43m=\u001b[39;49m\u001b[43mcopy\u001b[49m\u001b[43m,\u001b[49m\u001b[43m \u001b[49m\u001b[43merrors\u001b[49m\u001b[38;5;241;43m=\u001b[39;49m\u001b[43merrors\u001b[49m\u001b[43m)\u001b[49m\n\u001b[1;32m   5913\u001b[0m     \u001b[38;5;28;01mreturn\u001b[39;00m \u001b[38;5;28mself\u001b[39m\u001b[38;5;241m.\u001b[39m_constructor(new_data)\u001b[38;5;241m.\u001b[39m__finalize__(\u001b[38;5;28mself\u001b[39m, method\u001b[38;5;241m=\u001b[39m\u001b[38;5;124m\"\u001b[39m\u001b[38;5;124mastype\u001b[39m\u001b[38;5;124m\"\u001b[39m)\n\u001b[1;32m   5915\u001b[0m \u001b[38;5;66;03m# GH 33113: handle empty frame or series\u001b[39;00m\n",
      "File \u001b[0;32m~/opt/anaconda3/lib/python3.9/site-packages/pandas/core/internals/managers.py:419\u001b[0m, in \u001b[0;36mBaseBlockManager.astype\u001b[0;34m(self, dtype, copy, errors)\u001b[0m\n\u001b[1;32m    418\u001b[0m \u001b[38;5;28;01mdef\u001b[39;00m \u001b[38;5;21mastype\u001b[39m(\u001b[38;5;28mself\u001b[39m: T, dtype, copy: \u001b[38;5;28mbool\u001b[39m \u001b[38;5;241m=\u001b[39m \u001b[38;5;28;01mFalse\u001b[39;00m, errors: \u001b[38;5;28mstr\u001b[39m \u001b[38;5;241m=\u001b[39m \u001b[38;5;124m\"\u001b[39m\u001b[38;5;124mraise\u001b[39m\u001b[38;5;124m\"\u001b[39m) \u001b[38;5;241m-\u001b[39m\u001b[38;5;241m>\u001b[39m T:\n\u001b[0;32m--> 419\u001b[0m     \u001b[38;5;28;01mreturn\u001b[39;00m \u001b[38;5;28;43mself\u001b[39;49m\u001b[38;5;241;43m.\u001b[39;49m\u001b[43mapply\u001b[49m\u001b[43m(\u001b[49m\u001b[38;5;124;43m\"\u001b[39;49m\u001b[38;5;124;43mastype\u001b[39;49m\u001b[38;5;124;43m\"\u001b[39;49m\u001b[43m,\u001b[49m\u001b[43m \u001b[49m\u001b[43mdtype\u001b[49m\u001b[38;5;241;43m=\u001b[39;49m\u001b[43mdtype\u001b[49m\u001b[43m,\u001b[49m\u001b[43m \u001b[49m\u001b[43mcopy\u001b[49m\u001b[38;5;241;43m=\u001b[39;49m\u001b[43mcopy\u001b[49m\u001b[43m,\u001b[49m\u001b[43m \u001b[49m\u001b[43merrors\u001b[49m\u001b[38;5;241;43m=\u001b[39;49m\u001b[43merrors\u001b[49m\u001b[43m)\u001b[49m\n",
      "File \u001b[0;32m~/opt/anaconda3/lib/python3.9/site-packages/pandas/core/internals/managers.py:304\u001b[0m, in \u001b[0;36mBaseBlockManager.apply\u001b[0;34m(self, f, align_keys, ignore_failures, **kwargs)\u001b[0m\n\u001b[1;32m    302\u001b[0m         applied \u001b[38;5;241m=\u001b[39m b\u001b[38;5;241m.\u001b[39mapply(f, \u001b[38;5;241m*\u001b[39m\u001b[38;5;241m*\u001b[39mkwargs)\n\u001b[1;32m    303\u001b[0m     \u001b[38;5;28;01melse\u001b[39;00m:\n\u001b[0;32m--> 304\u001b[0m         applied \u001b[38;5;241m=\u001b[39m \u001b[38;5;28;43mgetattr\u001b[39;49m\u001b[43m(\u001b[49m\u001b[43mb\u001b[49m\u001b[43m,\u001b[49m\u001b[43m \u001b[49m\u001b[43mf\u001b[49m\u001b[43m)\u001b[49m\u001b[43m(\u001b[49m\u001b[38;5;241;43m*\u001b[39;49m\u001b[38;5;241;43m*\u001b[39;49m\u001b[43mkwargs\u001b[49m\u001b[43m)\u001b[49m\n\u001b[1;32m    305\u001b[0m \u001b[38;5;28;01mexcept\u001b[39;00m (\u001b[38;5;167;01mTypeError\u001b[39;00m, \u001b[38;5;167;01mNotImplementedError\u001b[39;00m):\n\u001b[1;32m    306\u001b[0m     \u001b[38;5;28;01mif\u001b[39;00m \u001b[38;5;129;01mnot\u001b[39;00m ignore_failures:\n",
      "File \u001b[0;32m~/opt/anaconda3/lib/python3.9/site-packages/pandas/core/internals/blocks.py:580\u001b[0m, in \u001b[0;36mBlock.astype\u001b[0;34m(self, dtype, copy, errors)\u001b[0m\n\u001b[1;32m    562\u001b[0m \u001b[38;5;124;03m\"\"\"\u001b[39;00m\n\u001b[1;32m    563\u001b[0m \u001b[38;5;124;03mCoerce to the new dtype.\u001b[39;00m\n\u001b[1;32m    564\u001b[0m \n\u001b[0;32m   (...)\u001b[0m\n\u001b[1;32m    576\u001b[0m \u001b[38;5;124;03mBlock\u001b[39;00m\n\u001b[1;32m    577\u001b[0m \u001b[38;5;124;03m\"\"\"\u001b[39;00m\n\u001b[1;32m    578\u001b[0m values \u001b[38;5;241m=\u001b[39m \u001b[38;5;28mself\u001b[39m\u001b[38;5;241m.\u001b[39mvalues\n\u001b[0;32m--> 580\u001b[0m new_values \u001b[38;5;241m=\u001b[39m \u001b[43mastype_array_safe\u001b[49m\u001b[43m(\u001b[49m\u001b[43mvalues\u001b[49m\u001b[43m,\u001b[49m\u001b[43m \u001b[49m\u001b[43mdtype\u001b[49m\u001b[43m,\u001b[49m\u001b[43m \u001b[49m\u001b[43mcopy\u001b[49m\u001b[38;5;241;43m=\u001b[39;49m\u001b[43mcopy\u001b[49m\u001b[43m,\u001b[49m\u001b[43m \u001b[49m\u001b[43merrors\u001b[49m\u001b[38;5;241;43m=\u001b[39;49m\u001b[43merrors\u001b[49m\u001b[43m)\u001b[49m\n\u001b[1;32m    582\u001b[0m new_values \u001b[38;5;241m=\u001b[39m maybe_coerce_values(new_values)\n\u001b[1;32m    583\u001b[0m newb \u001b[38;5;241m=\u001b[39m \u001b[38;5;28mself\u001b[39m\u001b[38;5;241m.\u001b[39mmake_block(new_values)\n",
      "File \u001b[0;32m~/opt/anaconda3/lib/python3.9/site-packages/pandas/core/dtypes/cast.py:1292\u001b[0m, in \u001b[0;36mastype_array_safe\u001b[0;34m(values, dtype, copy, errors)\u001b[0m\n\u001b[1;32m   1289\u001b[0m     dtype \u001b[38;5;241m=\u001b[39m dtype\u001b[38;5;241m.\u001b[39mnumpy_dtype\n\u001b[1;32m   1291\u001b[0m \u001b[38;5;28;01mtry\u001b[39;00m:\n\u001b[0;32m-> 1292\u001b[0m     new_values \u001b[38;5;241m=\u001b[39m \u001b[43mastype_array\u001b[49m\u001b[43m(\u001b[49m\u001b[43mvalues\u001b[49m\u001b[43m,\u001b[49m\u001b[43m \u001b[49m\u001b[43mdtype\u001b[49m\u001b[43m,\u001b[49m\u001b[43m \u001b[49m\u001b[43mcopy\u001b[49m\u001b[38;5;241;43m=\u001b[39;49m\u001b[43mcopy\u001b[49m\u001b[43m)\u001b[49m\n\u001b[1;32m   1293\u001b[0m \u001b[38;5;28;01mexcept\u001b[39;00m (\u001b[38;5;167;01mValueError\u001b[39;00m, \u001b[38;5;167;01mTypeError\u001b[39;00m):\n\u001b[1;32m   1294\u001b[0m     \u001b[38;5;66;03m# e.g. astype_nansafe can fail on object-dtype of strings\u001b[39;00m\n\u001b[1;32m   1295\u001b[0m     \u001b[38;5;66;03m#  trying to convert to float\u001b[39;00m\n\u001b[1;32m   1296\u001b[0m     \u001b[38;5;28;01mif\u001b[39;00m errors \u001b[38;5;241m==\u001b[39m \u001b[38;5;124m\"\u001b[39m\u001b[38;5;124mignore\u001b[39m\u001b[38;5;124m\"\u001b[39m:\n",
      "File \u001b[0;32m~/opt/anaconda3/lib/python3.9/site-packages/pandas/core/dtypes/cast.py:1237\u001b[0m, in \u001b[0;36mastype_array\u001b[0;34m(values, dtype, copy)\u001b[0m\n\u001b[1;32m   1234\u001b[0m     values \u001b[38;5;241m=\u001b[39m values\u001b[38;5;241m.\u001b[39mastype(dtype, copy\u001b[38;5;241m=\u001b[39mcopy)\n\u001b[1;32m   1236\u001b[0m \u001b[38;5;28;01melse\u001b[39;00m:\n\u001b[0;32m-> 1237\u001b[0m     values \u001b[38;5;241m=\u001b[39m \u001b[43mastype_nansafe\u001b[49m\u001b[43m(\u001b[49m\u001b[43mvalues\u001b[49m\u001b[43m,\u001b[49m\u001b[43m \u001b[49m\u001b[43mdtype\u001b[49m\u001b[43m,\u001b[49m\u001b[43m \u001b[49m\u001b[43mcopy\u001b[49m\u001b[38;5;241;43m=\u001b[39;49m\u001b[43mcopy\u001b[49m\u001b[43m)\u001b[49m\n\u001b[1;32m   1239\u001b[0m \u001b[38;5;66;03m# in pandas we don't store numpy str dtypes, so convert to object\u001b[39;00m\n\u001b[1;32m   1240\u001b[0m \u001b[38;5;28;01mif\u001b[39;00m \u001b[38;5;28misinstance\u001b[39m(dtype, np\u001b[38;5;241m.\u001b[39mdtype) \u001b[38;5;129;01mand\u001b[39;00m \u001b[38;5;28missubclass\u001b[39m(values\u001b[38;5;241m.\u001b[39mdtype\u001b[38;5;241m.\u001b[39mtype, \u001b[38;5;28mstr\u001b[39m):\n",
      "File \u001b[0;32m~/opt/anaconda3/lib/python3.9/site-packages/pandas/core/dtypes/cast.py:1098\u001b[0m, in \u001b[0;36mastype_nansafe\u001b[0;34m(arr, dtype, copy, skipna)\u001b[0m\n\u001b[1;32m   1096\u001b[0m \u001b[38;5;28;01mif\u001b[39;00m arr\u001b[38;5;241m.\u001b[39mndim \u001b[38;5;241m>\u001b[39m \u001b[38;5;241m1\u001b[39m:\n\u001b[1;32m   1097\u001b[0m     flat \u001b[38;5;241m=\u001b[39m arr\u001b[38;5;241m.\u001b[39mravel()\n\u001b[0;32m-> 1098\u001b[0m     result \u001b[38;5;241m=\u001b[39m \u001b[43mastype_nansafe\u001b[49m\u001b[43m(\u001b[49m\u001b[43mflat\u001b[49m\u001b[43m,\u001b[49m\u001b[43m \u001b[49m\u001b[43mdtype\u001b[49m\u001b[43m,\u001b[49m\u001b[43m \u001b[49m\u001b[43mcopy\u001b[49m\u001b[38;5;241;43m=\u001b[39;49m\u001b[43mcopy\u001b[49m\u001b[43m,\u001b[49m\u001b[43m \u001b[49m\u001b[43mskipna\u001b[49m\u001b[38;5;241;43m=\u001b[39;49m\u001b[43mskipna\u001b[49m\u001b[43m)\u001b[49m\n\u001b[1;32m   1099\u001b[0m     \u001b[38;5;66;03m# error: Item \"ExtensionArray\" of \"Union[ExtensionArray, ndarray]\" has no\u001b[39;00m\n\u001b[1;32m   1100\u001b[0m     \u001b[38;5;66;03m# attribute \"reshape\"\u001b[39;00m\n\u001b[1;32m   1101\u001b[0m     \u001b[38;5;28;01mreturn\u001b[39;00m result\u001b[38;5;241m.\u001b[39mreshape(arr\u001b[38;5;241m.\u001b[39mshape)  \u001b[38;5;66;03m# type: ignore[union-attr]\u001b[39;00m\n",
      "File \u001b[0;32m~/opt/anaconda3/lib/python3.9/site-packages/pandas/core/dtypes/cast.py:1148\u001b[0m, in \u001b[0;36mastype_nansafe\u001b[0;34m(arr, dtype, copy, skipna)\u001b[0m\n\u001b[1;32m   1145\u001b[0m     \u001b[38;5;28;01mraise\u001b[39;00m \u001b[38;5;167;01mTypeError\u001b[39;00m(\u001b[38;5;124mf\u001b[39m\u001b[38;5;124m\"\u001b[39m\u001b[38;5;124mcannot astype a timedelta from [\u001b[39m\u001b[38;5;132;01m{\u001b[39;00marr\u001b[38;5;241m.\u001b[39mdtype\u001b[38;5;132;01m}\u001b[39;00m\u001b[38;5;124m] to [\u001b[39m\u001b[38;5;132;01m{\u001b[39;00mdtype\u001b[38;5;132;01m}\u001b[39;00m\u001b[38;5;124m]\u001b[39m\u001b[38;5;124m\"\u001b[39m)\n\u001b[1;32m   1147\u001b[0m \u001b[38;5;28;01melif\u001b[39;00m np\u001b[38;5;241m.\u001b[39missubdtype(arr\u001b[38;5;241m.\u001b[39mdtype, np\u001b[38;5;241m.\u001b[39mfloating) \u001b[38;5;129;01mand\u001b[39;00m np\u001b[38;5;241m.\u001b[39missubdtype(dtype, np\u001b[38;5;241m.\u001b[39minteger):\n\u001b[0;32m-> 1148\u001b[0m     \u001b[38;5;28;01mreturn\u001b[39;00m \u001b[43mastype_float_to_int_nansafe\u001b[49m\u001b[43m(\u001b[49m\u001b[43marr\u001b[49m\u001b[43m,\u001b[49m\u001b[43m \u001b[49m\u001b[43mdtype\u001b[49m\u001b[43m,\u001b[49m\u001b[43m \u001b[49m\u001b[43mcopy\u001b[49m\u001b[43m)\u001b[49m\n\u001b[1;32m   1150\u001b[0m \u001b[38;5;28;01melif\u001b[39;00m is_object_dtype(arr\u001b[38;5;241m.\u001b[39mdtype):\n\u001b[1;32m   1151\u001b[0m \n\u001b[1;32m   1152\u001b[0m     \u001b[38;5;66;03m# work around NumPy brokenness, #1987\u001b[39;00m\n\u001b[1;32m   1153\u001b[0m     \u001b[38;5;28;01mif\u001b[39;00m np\u001b[38;5;241m.\u001b[39missubdtype(dtype\u001b[38;5;241m.\u001b[39mtype, np\u001b[38;5;241m.\u001b[39minteger):\n",
      "File \u001b[0;32m~/opt/anaconda3/lib/python3.9/site-packages/pandas/core/dtypes/cast.py:1193\u001b[0m, in \u001b[0;36mastype_float_to_int_nansafe\u001b[0;34m(values, dtype, copy)\u001b[0m\n\u001b[1;32m   1189\u001b[0m \u001b[38;5;124;03m\"\"\"\u001b[39;00m\n\u001b[1;32m   1190\u001b[0m \u001b[38;5;124;03mastype with a check preventing converting NaN to an meaningless integer value.\u001b[39;00m\n\u001b[1;32m   1191\u001b[0m \u001b[38;5;124;03m\"\"\"\u001b[39;00m\n\u001b[1;32m   1192\u001b[0m \u001b[38;5;28;01mif\u001b[39;00m \u001b[38;5;129;01mnot\u001b[39;00m np\u001b[38;5;241m.\u001b[39misfinite(values)\u001b[38;5;241m.\u001b[39mall():\n\u001b[0;32m-> 1193\u001b[0m     \u001b[38;5;28;01mraise\u001b[39;00m IntCastingNaNError(\n\u001b[1;32m   1194\u001b[0m         \u001b[38;5;124m\"\u001b[39m\u001b[38;5;124mCannot convert non-finite values (NA or inf) to integer\u001b[39m\u001b[38;5;124m\"\u001b[39m\n\u001b[1;32m   1195\u001b[0m     )\n\u001b[1;32m   1196\u001b[0m \u001b[38;5;28;01mreturn\u001b[39;00m values\u001b[38;5;241m.\u001b[39mastype(dtype, copy\u001b[38;5;241m=\u001b[39mcopy)\n",
      "\u001b[0;31mIntCastingNaNError\u001b[0m: Cannot convert non-finite values (NA or inf) to integer"
     ]
    }
   ],
   "source": [
    "# Establish features and target variables\n",
    "Target_var = \"Options\" \n",
    "\n",
    "Target = Used_Cars_Class[Target_var]\n",
    "Features = Used_Cars_Class.drop(Target_var, axis=1).astype('int') \n"
   ]
  },
  {
   "cell_type": "markdown",
   "id": "15d9a75b",
   "metadata": {},
   "source": [
    "## 4.2 Splitting The Dataset"
   ]
  },
  {
   "cell_type": "code",
   "execution_count": 21,
   "id": "df69d77e",
   "metadata": {},
   "outputs": [
    {
     "ename": "NameError",
     "evalue": "name 'Features' is not defined",
     "output_type": "error",
     "traceback": [
      "\u001b[0;31m---------------------------------------------------------------------------\u001b[0m",
      "\u001b[0;31mNameError\u001b[0m                                 Traceback (most recent call last)",
      "Input \u001b[0;32mIn [21]\u001b[0m, in \u001b[0;36m<cell line: 2>\u001b[0;34m()\u001b[0m\n\u001b[1;32m      1\u001b[0m \u001b[38;5;66;03m# Assgin the feature set and the target for both the train and the test \u001b[39;00m\n\u001b[0;32m----> 2\u001b[0m X_train, X_test, y_train, y_test \u001b[38;5;241m=\u001b[39m train_test_split(\u001b[43mFeatures\u001b[49m, Target, test_size\u001b[38;5;241m=\u001b[39m\u001b[38;5;241m0.2\u001b[39m, random_state\u001b[38;5;241m=\u001b[39m\u001b[38;5;241m55\u001b[39m)\n",
      "\u001b[0;31mNameError\u001b[0m: name 'Features' is not defined"
     ]
    }
   ],
   "source": [
    "# Assgin the feature set and the target for both the train and the test \n",
    "X_train, X_test, y_train, y_test = train_test_split(Features, Target, test_size=0.2, random_state=55)"
   ]
  },
  {
   "cell_type": "code",
   "execution_count": 22,
   "id": "17d48343",
   "metadata": {},
   "outputs": [
    {
     "ename": "NameError",
     "evalue": "name 'X_train' is not defined",
     "output_type": "error",
     "traceback": [
      "\u001b[0;31m---------------------------------------------------------------------------\u001b[0m",
      "\u001b[0;31mNameError\u001b[0m                                 Traceback (most recent call last)",
      "Input \u001b[0;32mIn [22]\u001b[0m, in \u001b[0;36m<cell line: 5>\u001b[0;34m()\u001b[0m\n\u001b[1;32m      2\u001b[0m scaler \u001b[38;5;241m=\u001b[39m StandardScaler()\n\u001b[1;32m      4\u001b[0m \u001b[38;5;66;03m# Apply to X data --> only numeric columns \u001b[39;00m\n\u001b[0;32m----> 5\u001b[0m X_train_scaled \u001b[38;5;241m=\u001b[39m scaler\u001b[38;5;241m.\u001b[39mfit_transform(\u001b[43mX_train\u001b[49m)\n\u001b[1;32m      6\u001b[0m X_test_scaled \u001b[38;5;241m=\u001b[39m scaler\u001b[38;5;241m.\u001b[39mtransform(X_test)\n",
      "\u001b[0;31mNameError\u001b[0m: name 'X_train' is not defined"
     ]
    }
   ],
   "source": [
    "# Instantiate Scaler Object\n",
    "scaler = StandardScaler()\n",
    "\n",
    "# Apply to X data --> only numeric columns \n",
    "X_train_scaled = scaler.fit_transform(X_train)\n",
    "X_test_scaled = scaler.transform(X_test)"
   ]
  },
  {
   "cell_type": "markdown",
   "id": "5e3cc7b4",
   "metadata": {},
   "source": [
    "## 4.3 Train Models"
   ]
  },
  {
   "cell_type": "markdown",
   "id": "030ba332",
   "metadata": {},
   "source": [
    "## 1st Classification Model "
   ]
  },
  {
   "cell_type": "markdown",
   "id": "8179c4cc",
   "metadata": {},
   "source": [
    "### Simple Classification Model"
   ]
  },
  {
   "cell_type": "code",
   "execution_count": 104,
   "id": "5e662487",
   "metadata": {},
   "outputs": [
    {
     "name": "stdout",
     "output_type": "stream",
     "text": [
      "The fit for train dataset : LogisticRegression(random_state=55)\n",
      "_________________________________________________________________________\n",
      "The predictions for X_test : [0 0 0 ... 0 2 0]\n",
      "the Intercept Score : [ 2.38442563e-07 -6.11604154e-08 -1.77282148e-07]\n",
      "the Coef Score : [[ 4.84161660e-04 -4.78248201e-07 -1.53799702e-06 ... -4.87963282e-09\n",
      "  -7.20509307e-10 -5.01079331e-09]\n",
      " [-1.22933894e-04  2.63789403e-07  4.90567905e-07 ...  5.74998422e-09\n",
      "  -2.44583080e-09  4.85062084e-09]\n",
      " [-3.61227767e-04  2.14458798e-07  1.04742911e-06 ... -8.70351400e-10\n",
      "   3.16634010e-09  1.60172473e-10]]\n"
     ]
    }
   ],
   "source": [
    "Classif_reg = LogisticRegression(random_state = 55)\n",
    "print('The fit for train dataset :', Classif_reg.fit(X_train, y_train))\n",
    "\n",
    "print('_________________________________________________________________________')\n",
    "\n",
    "prediction1= Classif_reg.predict(X_test)\n",
    "print('The predictions for X_test :', prediction1)\n",
    "\n",
    "print('the Intercept Score :', Classif_reg.intercept_)\n",
    "print('the Coef Score :', Classif_reg.coef_)\n"
   ]
  },
  {
   "cell_type": "markdown",
   "id": "95b579a5",
   "metadata": {},
   "source": [
    "## 2nd Classification Model "
   ]
  },
  {
   "cell_type": "markdown",
   "id": "fec1bfdd",
   "metadata": {},
   "source": [
    "### Decision Tree Classifier"
   ]
  },
  {
   "cell_type": "code",
   "execution_count": 105,
   "id": "05d3d1cb",
   "metadata": {},
   "outputs": [
    {
     "name": "stdout",
     "output_type": "stream",
     "text": [
      "The fit for train dataset : DecisionTreeClassifier(criterion='entropy', max_depth=4, random_state=55)\n",
      "_________________________________________________________________________\n",
      "The predictions for X_test : [2 0 0 ... 2 1 0]\n"
     ]
    }
   ],
   "source": [
    "DecisionTree_reg = DecisionTreeClassifier(criterion = 'entropy', random_state = 55, max_depth=4)\n",
    "print('The fit for train dataset :', DecisionTree_reg.fit(X_train, y_train))\n",
    "\n",
    "print('_________________________________________________________________________')\n",
    "\n",
    "prediction_tree = DecisionTree_reg.predict(X_test)\n",
    "print('The predictions for X_test :', prediction_tree)\n"
   ]
  },
  {
   "cell_type": "markdown",
   "id": "74fb00c6",
   "metadata": {},
   "source": [
    "## 3rd Classification Model "
   ]
  },
  {
   "cell_type": "markdown",
   "id": "c211e421",
   "metadata": {},
   "source": [
    "### Random Forest Model"
   ]
  },
  {
   "cell_type": "code",
   "execution_count": 106,
   "id": "38690092",
   "metadata": {},
   "outputs": [
    {
     "name": "stdout",
     "output_type": "stream",
     "text": [
      "The fit for train dataset : RandomForestClassifier(criterion='entropy', n_estimators=10, random_state=55)\n",
      "_________________________________________________________________________\n",
      "The predictions for X_test : [2 2 0 ... 0 1 0]\n"
     ]
    }
   ],
   "source": [
    "RandomForest_reg = RandomForestClassifier(n_estimators = 10, criterion = 'entropy', random_state = 55)\n",
    "print('The fit for train dataset :', RandomForest_reg.fit(X_train, y_train))\n",
    "\n",
    "print('_________________________________________________________________________')\n",
    "\n",
    "prediction_forest = RandomForest_reg.predict(X_test)\n",
    "print('The predictions for X_test :', prediction_forest)"
   ]
  },
  {
   "cell_type": "markdown",
   "id": "44f9a800",
   "metadata": {},
   "source": [
    "## 4th Classification Model "
   ]
  },
  {
   "cell_type": "markdown",
   "id": "740a50b8",
   "metadata": {},
   "source": [
    "### XGBoost Classification"
   ]
  },
  {
   "cell_type": "code",
   "execution_count": 107,
   "id": "52deeac0",
   "metadata": {},
   "outputs": [
    {
     "name": "stdout",
     "output_type": "stream",
     "text": [
      "The fit for train dataset : XGBClassifier(base_score=0.5, booster='gbtree', callbacks=None,\n",
      "              colsample_bylevel=1, colsample_bynode=1, colsample_bytree=1,\n",
      "              early_stopping_rounds=None, enable_categorical=False,\n",
      "              eval_metric=None, gamma=0, gpu_id=-1, grow_policy='depthwise',\n",
      "              importance_type=None, interaction_constraints='',\n",
      "              learning_rate=0.300000012, max_bin=256, max_cat_to_onehot=4,\n",
      "              max_delta_step=0, max_depth=6, max_leaves=0, min_child_weight=1,\n",
      "              missing=nan, monotone_constraints='()', n_estimators=100,\n",
      "              n_jobs=0, num_parallel_tree=1, objective='multi:softprob',\n",
      "              predictor='auto', random_state=0, reg_alpha=0, ...)\n",
      "_________________________________________________________________________\n",
      "The predictions for X_test : [2 2 0 ... 0 1 0]\n"
     ]
    }
   ],
   "source": [
    "Classif_XGBoost = XGBClassifier()\n",
    "print('The fit for train dataset :', Classif_XGBoost.fit(X_train, y_train))\n",
    "\n",
    "print('_________________________________________________________________________')\n",
    "\n",
    "prediction_XGBoost= Classif_XGBoost.predict(X_test)\n",
    "print('The predictions for X_test :', prediction_XGBoost)"
   ]
  },
  {
   "cell_type": "markdown",
   "id": "2cd45002",
   "metadata": {},
   "source": [
    "## 4.4 Model Evaluation"
   ]
  },
  {
   "cell_type": "code",
   "execution_count": 108,
   "id": "c9704ad7",
   "metadata": {},
   "outputs": [],
   "source": [
    "# Function for comparing the Classification models\n",
    "def Compare_Classification(method, actual, preds, model):\n",
    "    \n",
    "    val_train = round(model.score(X_train, y_train),2)*100\n",
    "    val_test = round(model.score(X_test, actual),2)*100\n",
    "    accuracyScore = (accuracy_score(actual, preds)*100)\n",
    "    \n",
    "    print(f'{method} Classification:')\n",
    "    print('-------------------------------------------------')\n",
    "    print('The mean absolute error :', mean_absolute_error(y_true=actual, y_pred=preds))\n",
    "    print(f'Training Accuracy: {val_train}%')\n",
    "    print(f'Test Set Accuracy: {val_test}%')\n",
    "    print(f'Accuracy Score: {accuracyScore}%','\\n\\n ')\n",
    "    \n"
   ]
  },
  {
   "cell_type": "code",
   "execution_count": 109,
   "id": "9157395c",
   "metadata": {},
   "outputs": [
    {
     "name": "stdout",
     "output_type": "stream",
     "text": [
      "Simple Classification:\n",
      "-------------------------------------------------\n",
      "The mean absolute error : 0.7367458866544789\n",
      "Training Accuracy: 51.0%\n",
      "Test Set Accuracy: 49.0%\n",
      "Accuracy Score: 49.45155393053016% \n",
      "\n",
      " \n",
      "Decision Tree Classification:\n",
      "-------------------------------------------------\n",
      "The mean absolute error : 0.6645338208409507\n",
      "Training Accuracy: 55.00000000000001%\n",
      "Test Set Accuracy: 53.0%\n",
      "Accuracy Score: 52.833638025594155% \n",
      "\n",
      " \n",
      "Random Forest Classification:\n",
      "-------------------------------------------------\n",
      "The mean absolute error : 0.5255941499085923\n",
      "Training Accuracy: 98.0%\n",
      "Test Set Accuracy: 59.0%\n",
      "Accuracy Score: 58.59232175502742% \n",
      "\n",
      " \n",
      "XGBoost Classification:\n",
      "-------------------------------------------------\n",
      "The mean absolute error : 0.5182815356489945\n",
      "Training Accuracy: 84.0%\n",
      "Test Set Accuracy: 59.0%\n",
      "Accuracy Score: 59.04936014625228% \n",
      "\n",
      " \n"
     ]
    }
   ],
   "source": [
    "model_labels = ['Simple','Decision Tree', 'Random Forest','XGBoost']\n",
    "model_pred = [prediction1, prediction_tree, prediction_forest, prediction_XGBoost]\n",
    "model_names = [Classif_reg, DecisionTree_reg, RandomForest_reg , Classif_XGBoost]\n",
    "\n",
    "for x in range(len(model_pred)):\n",
    "    \n",
    "    Compare_Classification(model_labels[x],y_test, model_pred[x],model_names[x] )"
   ]
  },
  {
   "cell_type": "markdown",
   "id": "b920d10e",
   "metadata": {},
   "source": [
    "## 4.5 Model  Evaluation"
   ]
  },
  {
   "cell_type": "markdown",
   "id": "ffa56f7b",
   "metadata": {},
   "source": [
    "### 1st Model  Evaluation"
   ]
  },
  {
   "cell_type": "code",
   "execution_count": 110,
   "id": "883a2a56",
   "metadata": {},
   "outputs": [
    {
     "name": "stderr",
     "output_type": "stream",
     "text": [
      "C:\\Users\\user\\anaconda3\\lib\\site-packages\\sklearn\\utils\\deprecation.py:87: FutureWarning: Function plot_confusion_matrix is deprecated; Function `plot_confusion_matrix` is deprecated in 1.0 and will be removed in 1.2. Use one of the class methods: ConfusionMatrixDisplay.from_predictions or ConfusionMatrixDisplay.from_estimator.\n",
      "  warnings.warn(msg, category=FutureWarning)\n"
     ]
    },
    {
     "data": {
      "image/png": "[encoded data removed]",
      "text/plain": [
       "<Figure size 1080x576 with 2 Axes>"
      ]
     },
     "metadata": {},
     "output_type": "display_data"
    }
   ],
   "source": [
    "# Making a confusion matrix for more detail\n",
    "plot_confusion_matrix(Classif_reg, X_test, y_test);"
   ]
  },
  {
   "cell_type": "code",
   "execution_count": 111,
   "id": "4f31660e",
   "metadata": {},
   "outputs": [
    {
     "name": "stdout",
     "output_type": "stream",
     "text": [
      "              precision    recall  f1-score   support\n",
      "\n",
      "           0       0.48      0.72      0.58       396\n",
      "           1       0.00      0.00      0.00       300\n",
      "           2       0.51      0.64      0.57       398\n",
      "\n",
      "    accuracy                           0.49      1094\n",
      "   macro avg       0.33      0.45      0.38      1094\n",
      "weighted avg       0.36      0.49      0.42      1094\n",
      "\n"
     ]
    },
    {
     "name": "stderr",
     "output_type": "stream",
     "text": [
      "C:\\Users\\user\\anaconda3\\lib\\site-packages\\sklearn\\metrics\\_classification.py:1318: UndefinedMetricWarning: Precision and F-score are ill-defined and being set to 0.0 in labels with no predicted samples. Use `zero_division` parameter to control this behavior.\n",
      "  _warn_prf(average, modifier, msg_start, len(result))\n",
      "C:\\Users\\user\\anaconda3\\lib\\site-packages\\sklearn\\metrics\\_classification.py:1318: UndefinedMetricWarning: Precision and F-score are ill-defined and being set to 0.0 in labels with no predicted samples. Use `zero_division` parameter to control this behavior.\n",
      "  _warn_prf(average, modifier, msg_start, len(result))\n",
      "C:\\Users\\user\\anaconda3\\lib\\site-packages\\sklearn\\metrics\\_classification.py:1318: UndefinedMetricWarning: Precision and F-score are ill-defined and being set to 0.0 in labels with no predicted samples. Use `zero_division` parameter to control this behavior.\n",
      "  _warn_prf(average, modifier, msg_start, len(result))\n"
     ]
    }
   ],
   "source": [
    "# Printing the classification report\n",
    "print(classification_report(y_test, prediction1))"
   ]
  },
  {
   "cell_type": "markdown",
   "id": "a3bece3c",
   "metadata": {},
   "source": [
    "### 2nd Model  Evaluation"
   ]
  },
  {
   "cell_type": "code",
   "execution_count": 112,
   "id": "0543d89a",
   "metadata": {},
   "outputs": [
    {
     "name": "stderr",
     "output_type": "stream",
     "text": [
      "C:\\Users\\user\\anaconda3\\lib\\site-packages\\sklearn\\utils\\deprecation.py:87: FutureWarning: Function plot_confusion_matrix is deprecated; Function `plot_confusion_matrix` is deprecated in 1.0 and will be removed in 1.2. Use one of the class methods: ConfusionMatrixDisplay.from_predictions or ConfusionMatrixDisplay.from_estimator.\n",
      "  warnings.warn(msg, category=FutureWarning)\n"
     ]
    },
    {
     "data": {
      "image/png": "[encoded data removed]",
      "text/plain": [
       "<Figure size 1080x576 with 2 Axes>"
      ]
     },
     "metadata": {},
     "output_type": "display_data"
    }
   ],
   "source": [
    "# Making a confusion matrix for more detail\n",
    "plot_confusion_matrix(DecisionTree_reg, X_test, y_test);"
   ]
  },
  {
   "cell_type": "code",
   "execution_count": 113,
   "id": "6b6ecdb9",
   "metadata": {},
   "outputs": [
    {
     "name": "stdout",
     "output_type": "stream",
     "text": [
      "              precision    recall  f1-score   support\n",
      "\n",
      "           0       0.58      0.61      0.60       396\n",
      "           1       0.27      0.01      0.02       300\n",
      "           2       0.50      0.84      0.63       398\n",
      "\n",
      "    accuracy                           0.53      1094\n",
      "   macro avg       0.45      0.49      0.41      1094\n",
      "weighted avg       0.47      0.53      0.45      1094\n",
      "\n"
     ]
    }
   ],
   "source": [
    "# Printing the classification report\n",
    "print(classification_report(y_test, prediction_tree))"
   ]
  },
  {
   "cell_type": "markdown",
   "id": "997718c0",
   "metadata": {},
   "source": [
    "### 3rd Model  Evaluation"
   ]
  },
  {
   "cell_type": "code",
   "execution_count": 114,
   "id": "6e8bcda3",
   "metadata": {},
   "outputs": [
    {
     "name": "stderr",
     "output_type": "stream",
     "text": [
      "C:\\Users\\user\\anaconda3\\lib\\site-packages\\sklearn\\utils\\deprecation.py:87: FutureWarning: Function plot_confusion_matrix is deprecated; Function `plot_confusion_matrix` is deprecated in 1.0 and will be removed in 1.2. Use one of the class methods: ConfusionMatrixDisplay.from_predictions or ConfusionMatrixDisplay.from_estimator.\n",
      "  warnings.warn(msg, category=FutureWarning)\n"
     ]
    },
    {
     "data": {
      "image/png": "[encoded data removed]",
      "text/plain": [
       "<Figure size 1080x576 with 2 Axes>"
      ]
     },
     "metadata": {},
     "output_type": "display_data"
    }
   ],
   "source": [
    "# Making a confusion matrix for more detail\n",
    "plot_confusion_matrix(RandomForest_reg, X_test, y_test);"
   ]
  },
  {
   "cell_type": "code",
   "execution_count": 115,
   "id": "c3e4eb40",
   "metadata": {},
   "outputs": [
    {
     "name": "stdout",
     "output_type": "stream",
     "text": [
      "              precision    recall  f1-score   support\n",
      "\n",
      "           0       0.61      0.69      0.65       396\n",
      "           1       0.44      0.35      0.39       300\n",
      "           2       0.65      0.66      0.66       398\n",
      "\n",
      "    accuracy                           0.59      1094\n",
      "   macro avg       0.56      0.57      0.56      1094\n",
      "weighted avg       0.58      0.59      0.58      1094\n",
      "\n"
     ]
    }
   ],
   "source": [
    "# Printing the classification report\n",
    "print(classification_report(y_test, prediction_forest))"
   ]
  },
  {
   "cell_type": "markdown",
   "id": "67e7aa9e",
   "metadata": {},
   "source": [
    "### 4th Model Evaluation"
   ]
  },
  {
   "cell_type": "code",
   "execution_count": 116,
   "id": "ab2f00b5",
   "metadata": {},
   "outputs": [
    {
     "name": "stderr",
     "output_type": "stream",
     "text": [
      "C:\\Users\\user\\anaconda3\\lib\\site-packages\\sklearn\\utils\\deprecation.py:87: FutureWarning: Function plot_confusion_matrix is deprecated; Function `plot_confusion_matrix` is deprecated in 1.0 and will be removed in 1.2. Use one of the class methods: ConfusionMatrixDisplay.from_predictions or ConfusionMatrixDisplay.from_estimator.\n",
      "  warnings.warn(msg, category=FutureWarning)\n"
     ]
    },
    {
     "data": {
      "text/plain": [
       "<sklearn.metrics._plot.confusion_matrix.ConfusionMatrixDisplay at 0x188840da0d0>"
      ]
     },
     "execution_count": 116,
     "metadata": {},
     "output_type": "execute_result"
    },
    {
     "data": {
      "image/png": "[encoded data removed]",
      "text/plain": [
       "<Figure size 1080x576 with 2 Axes>"
      ]
     },
     "metadata": {},
     "output_type": "display_data"
    }
   ],
   "source": [
    "plot_confusion_matrix(Classif_XGBoost, X=X_test, y_true=y_test)"
   ]
  },
  {
   "cell_type": "code",
   "execution_count": 117,
   "id": "bfbcd7db",
   "metadata": {},
   "outputs": [
    {
     "name": "stdout",
     "output_type": "stream",
     "text": [
      "              precision    recall  f1-score   support\n",
      "\n",
      "           0       0.62      0.68      0.65       396\n",
      "           1       0.43      0.28      0.34       300\n",
      "           2       0.63      0.73      0.68       398\n",
      "\n",
      "    accuracy                           0.59      1094\n",
      "   macro avg       0.56      0.57      0.56      1094\n",
      "weighted avg       0.57      0.59      0.58      1094\n",
      "\n"
     ]
    }
   ],
   "source": [
    "print(classification_report(y_test, prediction_XGBoost))"
   ]
  },
  {
   "cell_type": "markdown",
   "id": "9f4c756c",
   "metadata": {},
   "source": [
    "## 4.6 Model Selection "
   ]
  },
  {
   "cell_type": "code",
   "execution_count": 118,
   "id": "8989e28b",
   "metadata": {},
   "outputs": [],
   "source": [
    "# The selection of the best model was done based on the high degree of accuracy of the model compared to other models\n",
    "# Subsequently, the best model was the fivth model which \"Random Forest Classifier\", \n",
    "# because it has a training accuracy Score: 98.0%."
   ]
  },
  {
   "cell_type": "markdown",
   "id": "872e4502",
   "metadata": {},
   "source": [
    "## 4.7  Hyperparameter Tuning ( GridSearchCV )"
   ]
  },
  {
   "cell_type": "code",
   "execution_count": 120,
   "id": "c9ab30f1",
   "metadata": {},
   "outputs": [],
   "source": [
    "# Create param grid to hyper parameter tune the model\n",
    "param_grid = {\n",
    "    \"preprocessor__num__imputer__strategy\": [\"mean\", \"median\", \"most_frequent\"], # adjust the strategy for imputation\n",
    "    \"classifier__C\": [0.1, 0.3, 0.5, 0.6, 0.8, 1.0],# Adjust regularization strength\n",
    "     \"preprocessor__num__scaler__with_mean\": [True, False]\n",
    "}\n",
    "grid = GridSearchCV(Classif_XGBoost, # Model\n",
    "                    param_grid=param_grid, # Parameters to tune\n",
    "                    cv=5, # Cross Validation\n",
    "                    verbose=1, # Shows output while training \n",
    "                    n_jobs=-1, # How many core to use on your computer (-1 means use all cores)\n",
    "                    scoring=\"accuracy\"\n",
    "                   )\n"
   ]
  },
  {
   "cell_type": "code",
   "execution_count": 121,
   "id": "18ee8ac1",
   "metadata": {},
   "outputs": [
    {
     "name": "stdout",
     "output_type": "stream",
     "text": [
      "Fitting 5 folds for each of 36 candidates, totalling 180 fits\n",
      "[22:16:13] WARNING: D:\\bld\\xgboost-split_1660208973102\\work\\src\\learner.cc:627: \n",
      "Parameters: { \"classifier__C\", \"preprocessor__num__imputer__strategy\", \"preprocessor__num__scaler__with_mean\" } might not be used.\n",
      "\n",
      "  This could be a false alarm, with some parameters getting used by language bindings but\n",
      "  then being mistakenly passed down to XGBoost core, or some parameter actually being used\n",
      "  but getting flagged wrongly here. Please open an issue if you find any such cases.\n",
      "\n",
      "\n"
     ]
    }
   ],
   "source": [
    "grid.fit(X_train,y_train)\n",
    "preds = grid.best_estimator_.predict(X_test)"
   ]
  },
  {
   "cell_type": "code",
   "execution_count": 122,
   "id": "4c300e78",
   "metadata": {},
   "outputs": [
    {
     "data": {
      "text/html": [
       "<div>\n",
       "<style scoped>\n",
       "    .dataframe tbody tr th:only-of-type {\n",
       "        vertical-align: middle;\n",
       "    }\n",
       "\n",
       "    .dataframe tbody tr th {\n",
       "        vertical-align: top;\n",
       "    }\n",
       "\n",
       "    .dataframe thead th {\n",
       "        text-align: right;\n",
       "    }\n",
       "</style>\n",
       "<table border=\"1\" class=\"dataframe\">\n",
       "  <thead>\n",
       "    <tr style=\"text-align: right;\">\n",
       "      <th></th>\n",
       "      <th>param_classifier__C</th>\n",
       "      <th>param_preprocessor__num__imputer__strategy</th>\n",
       "      <th>param_preprocessor__num__scaler__with_mean</th>\n",
       "      <th>mean_test_score</th>\n",
       "      <th>rank_test_score</th>\n",
       "    </tr>\n",
       "  </thead>\n",
       "  <tbody>\n",
       "    <tr>\n",
       "      <th>0</th>\n",
       "      <td>0.1</td>\n",
       "      <td>mean</td>\n",
       "      <td>True</td>\n",
       "      <td>0.606171</td>\n",
       "      <td>1</td>\n",
       "    </tr>\n",
       "    <tr>\n",
       "      <th>20</th>\n",
       "      <td>0.6</td>\n",
       "      <td>median</td>\n",
       "      <td>True</td>\n",
       "      <td>0.606171</td>\n",
       "      <td>1</td>\n",
       "    </tr>\n",
       "    <tr>\n",
       "      <th>21</th>\n",
       "      <td>0.6</td>\n",
       "      <td>median</td>\n",
       "      <td>False</td>\n",
       "      <td>0.606171</td>\n",
       "      <td>1</td>\n",
       "    </tr>\n",
       "    <tr>\n",
       "      <th>22</th>\n",
       "      <td>0.6</td>\n",
       "      <td>most_frequent</td>\n",
       "      <td>True</td>\n",
       "      <td>0.606171</td>\n",
       "      <td>1</td>\n",
       "    </tr>\n",
       "    <tr>\n",
       "      <th>23</th>\n",
       "      <td>0.6</td>\n",
       "      <td>most_frequent</td>\n",
       "      <td>False</td>\n",
       "      <td>0.606171</td>\n",
       "      <td>1</td>\n",
       "    </tr>\n",
       "    <tr>\n",
       "      <th>24</th>\n",
       "      <td>0.8</td>\n",
       "      <td>mean</td>\n",
       "      <td>True</td>\n",
       "      <td>0.606171</td>\n",
       "      <td>1</td>\n",
       "    </tr>\n",
       "    <tr>\n",
       "      <th>25</th>\n",
       "      <td>0.8</td>\n",
       "      <td>mean</td>\n",
       "      <td>False</td>\n",
       "      <td>0.606171</td>\n",
       "      <td>1</td>\n",
       "    </tr>\n",
       "    <tr>\n",
       "      <th>19</th>\n",
       "      <td>0.6</td>\n",
       "      <td>mean</td>\n",
       "      <td>False</td>\n",
       "      <td>0.606171</td>\n",
       "      <td>1</td>\n",
       "    </tr>\n",
       "    <tr>\n",
       "      <th>26</th>\n",
       "      <td>0.8</td>\n",
       "      <td>median</td>\n",
       "      <td>True</td>\n",
       "      <td>0.606171</td>\n",
       "      <td>1</td>\n",
       "    </tr>\n",
       "    <tr>\n",
       "      <th>28</th>\n",
       "      <td>0.8</td>\n",
       "      <td>most_frequent</td>\n",
       "      <td>True</td>\n",
       "      <td>0.606171</td>\n",
       "      <td>1</td>\n",
       "    </tr>\n",
       "    <tr>\n",
       "      <th>29</th>\n",
       "      <td>0.8</td>\n",
       "      <td>most_frequent</td>\n",
       "      <td>False</td>\n",
       "      <td>0.606171</td>\n",
       "      <td>1</td>\n",
       "    </tr>\n",
       "    <tr>\n",
       "      <th>30</th>\n",
       "      <td>1.0</td>\n",
       "      <td>mean</td>\n",
       "      <td>True</td>\n",
       "      <td>0.606171</td>\n",
       "      <td>1</td>\n",
       "    </tr>\n",
       "    <tr>\n",
       "      <th>31</th>\n",
       "      <td>1.0</td>\n",
       "      <td>mean</td>\n",
       "      <td>False</td>\n",
       "      <td>0.606171</td>\n",
       "      <td>1</td>\n",
       "    </tr>\n",
       "    <tr>\n",
       "      <th>32</th>\n",
       "      <td>1.0</td>\n",
       "      <td>median</td>\n",
       "      <td>True</td>\n",
       "      <td>0.606171</td>\n",
       "      <td>1</td>\n",
       "    </tr>\n",
       "    <tr>\n",
       "      <th>33</th>\n",
       "      <td>1.0</td>\n",
       "      <td>median</td>\n",
       "      <td>False</td>\n",
       "      <td>0.606171</td>\n",
       "      <td>1</td>\n",
       "    </tr>\n",
       "    <tr>\n",
       "      <th>27</th>\n",
       "      <td>0.8</td>\n",
       "      <td>median</td>\n",
       "      <td>False</td>\n",
       "      <td>0.606171</td>\n",
       "      <td>1</td>\n",
       "    </tr>\n",
       "    <tr>\n",
       "      <th>18</th>\n",
       "      <td>0.6</td>\n",
       "      <td>mean</td>\n",
       "      <td>True</td>\n",
       "      <td>0.606171</td>\n",
       "      <td>1</td>\n",
       "    </tr>\n",
       "    <tr>\n",
       "      <th>17</th>\n",
       "      <td>0.5</td>\n",
       "      <td>most_frequent</td>\n",
       "      <td>False</td>\n",
       "      <td>0.606171</td>\n",
       "      <td>1</td>\n",
       "    </tr>\n",
       "    <tr>\n",
       "      <th>16</th>\n",
       "      <td>0.5</td>\n",
       "      <td>most_frequent</td>\n",
       "      <td>True</td>\n",
       "      <td>0.606171</td>\n",
       "      <td>1</td>\n",
       "    </tr>\n",
       "    <tr>\n",
       "      <th>1</th>\n",
       "      <td>0.1</td>\n",
       "      <td>mean</td>\n",
       "      <td>False</td>\n",
       "      <td>0.606171</td>\n",
       "      <td>1</td>\n",
       "    </tr>\n",
       "    <tr>\n",
       "      <th>2</th>\n",
       "      <td>0.1</td>\n",
       "      <td>median</td>\n",
       "      <td>True</td>\n",
       "      <td>0.606171</td>\n",
       "      <td>1</td>\n",
       "    </tr>\n",
       "    <tr>\n",
       "      <th>3</th>\n",
       "      <td>0.1</td>\n",
       "      <td>median</td>\n",
       "      <td>False</td>\n",
       "      <td>0.606171</td>\n",
       "      <td>1</td>\n",
       "    </tr>\n",
       "    <tr>\n",
       "      <th>4</th>\n",
       "      <td>0.1</td>\n",
       "      <td>most_frequent</td>\n",
       "      <td>True</td>\n",
       "      <td>0.606171</td>\n",
       "      <td>1</td>\n",
       "    </tr>\n",
       "    <tr>\n",
       "      <th>5</th>\n",
       "      <td>0.1</td>\n",
       "      <td>most_frequent</td>\n",
       "      <td>False</td>\n",
       "      <td>0.606171</td>\n",
       "      <td>1</td>\n",
       "    </tr>\n",
       "    <tr>\n",
       "      <th>6</th>\n",
       "      <td>0.3</td>\n",
       "      <td>mean</td>\n",
       "      <td>True</td>\n",
       "      <td>0.606171</td>\n",
       "      <td>1</td>\n",
       "    </tr>\n",
       "    <tr>\n",
       "      <th>7</th>\n",
       "      <td>0.3</td>\n",
       "      <td>mean</td>\n",
       "      <td>False</td>\n",
       "      <td>0.606171</td>\n",
       "      <td>1</td>\n",
       "    </tr>\n",
       "    <tr>\n",
       "      <th>8</th>\n",
       "      <td>0.3</td>\n",
       "      <td>median</td>\n",
       "      <td>True</td>\n",
       "      <td>0.606171</td>\n",
       "      <td>1</td>\n",
       "    </tr>\n",
       "    <tr>\n",
       "      <th>9</th>\n",
       "      <td>0.3</td>\n",
       "      <td>median</td>\n",
       "      <td>False</td>\n",
       "      <td>0.606171</td>\n",
       "      <td>1</td>\n",
       "    </tr>\n",
       "    <tr>\n",
       "      <th>10</th>\n",
       "      <td>0.3</td>\n",
       "      <td>most_frequent</td>\n",
       "      <td>True</td>\n",
       "      <td>0.606171</td>\n",
       "      <td>1</td>\n",
       "    </tr>\n",
       "    <tr>\n",
       "      <th>11</th>\n",
       "      <td>0.3</td>\n",
       "      <td>most_frequent</td>\n",
       "      <td>False</td>\n",
       "      <td>0.606171</td>\n",
       "      <td>1</td>\n",
       "    </tr>\n",
       "    <tr>\n",
       "      <th>12</th>\n",
       "      <td>0.5</td>\n",
       "      <td>mean</td>\n",
       "      <td>True</td>\n",
       "      <td>0.606171</td>\n",
       "      <td>1</td>\n",
       "    </tr>\n",
       "    <tr>\n",
       "      <th>13</th>\n",
       "      <td>0.5</td>\n",
       "      <td>mean</td>\n",
       "      <td>False</td>\n",
       "      <td>0.606171</td>\n",
       "      <td>1</td>\n",
       "    </tr>\n",
       "    <tr>\n",
       "      <th>14</th>\n",
       "      <td>0.5</td>\n",
       "      <td>median</td>\n",
       "      <td>True</td>\n",
       "      <td>0.606171</td>\n",
       "      <td>1</td>\n",
       "    </tr>\n",
       "    <tr>\n",
       "      <th>15</th>\n",
       "      <td>0.5</td>\n",
       "      <td>median</td>\n",
       "      <td>False</td>\n",
       "      <td>0.606171</td>\n",
       "      <td>1</td>\n",
       "    </tr>\n",
       "    <tr>\n",
       "      <th>34</th>\n",
       "      <td>1.0</td>\n",
       "      <td>most_frequent</td>\n",
       "      <td>True</td>\n",
       "      <td>0.606171</td>\n",
       "      <td>1</td>\n",
       "    </tr>\n",
       "    <tr>\n",
       "      <th>35</th>\n",
       "      <td>1.0</td>\n",
       "      <td>most_frequent</td>\n",
       "      <td>False</td>\n",
       "      <td>0.606171</td>\n",
       "      <td>1</td>\n",
       "    </tr>\n",
       "  </tbody>\n",
       "</table>\n",
       "</div>"
      ],
      "text/plain": [
       "   param_classifier__C param_preprocessor__num__imputer__strategy  \\\n",
       "0                  0.1                                       mean   \n",
       "20                 0.6                                     median   \n",
       "21                 0.6                                     median   \n",
       "22                 0.6                              most_frequent   \n",
       "23                 0.6                              most_frequent   \n",
       "24                 0.8                                       mean   \n",
       "25                 0.8                                       mean   \n",
       "19                 0.6                                       mean   \n",
       "26                 0.8                                     median   \n",
       "28                 0.8                              most_frequent   \n",
       "29                 0.8                              most_frequent   \n",
       "30                 1.0                                       mean   \n",
       "31                 1.0                                       mean   \n",
       "32                 1.0                                     median   \n",
       "33                 1.0                                     median   \n",
       "27                 0.8                                     median   \n",
       "18                 0.6                                       mean   \n",
       "17                 0.5                              most_frequent   \n",
       "16                 0.5                              most_frequent   \n",
       "1                  0.1                                       mean   \n",
       "2                  0.1                                     median   \n",
       "3                  0.1                                     median   \n",
       "4                  0.1                              most_frequent   \n",
       "5                  0.1                              most_frequent   \n",
       "6                  0.3                                       mean   \n",
       "7                  0.3                                       mean   \n",
       "8                  0.3                                     median   \n",
       "9                  0.3                                     median   \n",
       "10                 0.3                              most_frequent   \n",
       "11                 0.3                              most_frequent   \n",
       "12                 0.5                                       mean   \n",
       "13                 0.5                                       mean   \n",
       "14                 0.5                                     median   \n",
       "15                 0.5                                     median   \n",
       "34                 1.0                              most_frequent   \n",
       "35                 1.0                              most_frequent   \n",
       "\n",
       "   param_preprocessor__num__scaler__with_mean  mean_test_score  \\\n",
       "0                                        True         0.606171   \n",
       "20                                       True         0.606171   \n",
       "21                                      False         0.606171   \n",
       "22                                       True         0.606171   \n",
       "23                                      False         0.606171   \n",
       "24                                       True         0.606171   \n",
       "25                                      False         0.606171   \n",
       "19                                      False         0.606171   \n",
       "26                                       True         0.606171   \n",
       "28                                       True         0.606171   \n",
       "29                                      False         0.606171   \n",
       "30                                       True         0.606171   \n",
       "31                                      False         0.606171   \n",
       "32                                       True         0.606171   \n",
       "33                                      False         0.606171   \n",
       "27                                      False         0.606171   \n",
       "18                                       True         0.606171   \n",
       "17                                      False         0.606171   \n",
       "16                                       True         0.606171   \n",
       "1                                       False         0.606171   \n",
       "2                                        True         0.606171   \n",
       "3                                       False         0.606171   \n",
       "4                                        True         0.606171   \n",
       "5                                       False         0.606171   \n",
       "6                                        True         0.606171   \n",
       "7                                       False         0.606171   \n",
       "8                                        True         0.606171   \n",
       "9                                       False         0.606171   \n",
       "10                                       True         0.606171   \n",
       "11                                      False         0.606171   \n",
       "12                                       True         0.606171   \n",
       "13                                      False         0.606171   \n",
       "14                                       True         0.606171   \n",
       "15                                      False         0.606171   \n",
       "34                                       True         0.606171   \n",
       "35                                      False         0.606171   \n",
       "\n",
       "    rank_test_score  \n",
       "0                 1  \n",
       "20                1  \n",
       "21                1  \n",
       "22                1  \n",
       "23                1  \n",
       "24                1  \n",
       "25                1  \n",
       "19                1  \n",
       "26                1  \n",
       "28                1  \n",
       "29                1  \n",
       "30                1  \n",
       "31                1  \n",
       "32                1  \n",
       "33                1  \n",
       "27                1  \n",
       "18                1  \n",
       "17                1  \n",
       "16                1  \n",
       "1                 1  \n",
       "2                 1  \n",
       "3                 1  \n",
       "4                 1  \n",
       "5                 1  \n",
       "6                 1  \n",
       "7                 1  \n",
       "8                 1  \n",
       "9                 1  \n",
       "10                1  \n",
       "11                1  \n",
       "12                1  \n",
       "13                1  \n",
       "14                1  \n",
       "15                1  \n",
       "34                1  \n",
       "35                1  "
      ]
     },
     "execution_count": 122,
     "metadata": {},
     "output_type": "execute_result"
    }
   ],
   "source": [
    "Grid_Used_Cars = pd.DataFrame(grid.cv_results_)\n",
    " \n",
    "parameters = ['param_classifier__C', 'param_preprocessor__num__imputer__strategy','param_preprocessor__num__scaler__with_mean' ,'mean_test_score', 'rank_test_score']\n",
    "\n",
    "Grid_Used_Cars[parameters].sort_values(by = ['rank_test_score'])"
   ]
  },
  {
   "cell_type": "code",
   "execution_count": 123,
   "id": "ad7469ef",
   "metadata": {},
   "outputs": [
    {
     "name": "stdout",
     "output_type": "stream",
     "text": [
      "XGBoost Classification Model:\n",
      "-------------------------------------------------\n",
      "The Best Score: 60.61714285714286\n",
      "The Best Params: {'classifier__C': 0.1, 'preprocessor__num__imputer__strategy': 'mean', 'preprocessor__num__scaler__with_mean': True}\n"
     ]
    }
   ],
   "source": [
    "print(f'XGBoost Classification Model:')\n",
    "print('-------------------------------------------------')\n",
    "print('The Best Score:', (grid.best_score_)*100)\n",
    "print('The Best Params:', (grid.best_params_))"
   ]
  },
  {
   "cell_type": "markdown",
   "id": "06e8541b",
   "metadata": {},
   "source": [
    "## 4.8 ML Pipeline for Best Model"
   ]
  },
  {
   "cell_type": "code",
   "execution_count": 124,
   "id": "cfbecb86",
   "metadata": {},
   "outputs": [],
   "source": [
    "# Create a transformer for numeric columns\n",
    "numeric_features = X_train.describe().columns \n",
    "numeric_transformer = Pipeline(\n",
    "    steps=[\n",
    "        ('imputer', SimpleImputer()),\n",
    "        ('scaler', StandardScaler())\n",
    "    ]\n",
    ")"
   ]
  },
  {
   "cell_type": "code",
   "execution_count": 125,
   "id": "dc38e237",
   "metadata": {},
   "outputs": [],
   "source": [
    "# Create Transformer for categorical data\n",
    "categorical_features = [col for col in X_train.columns if col not in X_train.describe().columns] # Return only categorical names\n",
    "categorical_transformer = Pipeline(\n",
    "    steps=[\n",
    "        ('cat_imputer', SimpleImputer(strategy=\"most_frequent\")),\n",
    "        ('one_hot', OneHotEncoder(handle_unknown='ignore')) # Ignore unseen categorical in transform step not seen in fit_transform\n",
    "    ]\n",
    ")"
   ]
  },
  {
   "cell_type": "code",
   "execution_count": 126,
   "id": "5a6f307b",
   "metadata": {},
   "outputs": [
    {
     "name": "stdout",
     "output_type": "stream",
     "text": [
      "model score: 59.14076782449725\n"
     ]
    }
   ],
   "source": [
    "# Create a preprocessor transformer\n",
    "preprocessor = ColumnTransformer(\n",
    "    transformers=[\n",
    "        ('num', numeric_transformer, numeric_features),\n",
    "        ('cat', categorical_transformer, categorical_features)\n",
    "    ]\n",
    ")\n",
    "\n",
    "# Append classifier to preprocessing pipeline.\n",
    "# Now we have a full prediction pipeline.\n",
    "clf = Pipeline(steps=[('preprocessor', preprocessor),\n",
    "                      ('classifier', XGBClassifier())])\n",
    "\n",
    "clf.fit(X_train, y_train)\n",
    "\n",
    "print(f\"model score: {clf.score(X_test, y_test)*100}\")"
   ]
  },
  {
   "cell_type": "markdown",
   "id": "dd9241cd",
   "metadata": {},
   "source": [
    "# -----------------------------------------------------------------------------------------------------------------"
   ]
  }
 ],
 "metadata": {
  "kernelspec": {
   "display_name": "Python 3 (ipykernel)",
   "language": "python",
   "name": "python3"
  },
  "language_info": {
   "codemirror_mode": {
    "name": "ipython",
    "version": 3
   },
   "file_extension": ".py",
   "mimetype": "text/x-python",
   "name": "python",
   "nbconvert_exporter": "python",
   "pygments_lexer": "ipython3",
   "version": "3.9.12"
  }
 },
 "nbformat": 4,
 "nbformat_minor": 5
}
